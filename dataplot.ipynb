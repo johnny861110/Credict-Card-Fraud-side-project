{
 "cells": [
  {
   "cell_type": "code",
   "execution_count": 1,
   "metadata": {},
   "outputs": [],
   "source": [
    "import numpy as np\n",
    "import pandas as pd\n",
    "pd.options.display.max_columns=100\n",
    "pd.options.display.max_rows=100"
   ]
  },
  {
   "cell_type": "code",
   "execution_count": 2,
   "metadata": {},
   "outputs": [],
   "source": [
    "df_train=pd.read_csv(\"./data/train.csv\")"
   ]
  },
  {
   "cell_type": "code",
   "execution_count": 3,
   "metadata": {},
   "outputs": [
    {
     "data": {
      "text/html": [
       "<div>\n",
       "<style scoped>\n",
       "    .dataframe tbody tr th:only-of-type {\n",
       "        vertical-align: middle;\n",
       "    }\n",
       "\n",
       "    .dataframe tbody tr th {\n",
       "        vertical-align: top;\n",
       "    }\n",
       "\n",
       "    .dataframe thead th {\n",
       "        text-align: right;\n",
       "    }\n",
       "</style>\n",
       "<table border=\"1\" class=\"dataframe\">\n",
       "  <thead>\n",
       "    <tr style=\"text-align: right;\">\n",
       "      <th></th>\n",
       "      <th>acqic</th>\n",
       "      <th>bacno</th>\n",
       "      <th>cano</th>\n",
       "      <th>conam</th>\n",
       "      <th>contp</th>\n",
       "      <th>csmcu</th>\n",
       "      <th>ecfg</th>\n",
       "      <th>etymd</th>\n",
       "      <th>flbmk</th>\n",
       "      <th>flg_3dsmk</th>\n",
       "      <th>fraud_ind</th>\n",
       "      <th>hcefg</th>\n",
       "      <th>insfg</th>\n",
       "      <th>iterm</th>\n",
       "      <th>locdt</th>\n",
       "      <th>loctm</th>\n",
       "      <th>mcc</th>\n",
       "      <th>mchno</th>\n",
       "      <th>ovrlt</th>\n",
       "      <th>scity</th>\n",
       "      <th>stocn</th>\n",
       "      <th>stscd</th>\n",
       "      <th>txkey</th>\n",
       "    </tr>\n",
       "  </thead>\n",
       "  <tbody>\n",
       "    <tr>\n",
       "      <th>0</th>\n",
       "      <td>6881</td>\n",
       "      <td>113261</td>\n",
       "      <td>38038</td>\n",
       "      <td>513.80</td>\n",
       "      <td>5</td>\n",
       "      <td>0</td>\n",
       "      <td>N</td>\n",
       "      <td>0</td>\n",
       "      <td>N</td>\n",
       "      <td>N</td>\n",
       "      <td>0</td>\n",
       "      <td>5</td>\n",
       "      <td>N</td>\n",
       "      <td>0</td>\n",
       "      <td>33</td>\n",
       "      <td>172652.0</td>\n",
       "      <td>457</td>\n",
       "      <td>59333</td>\n",
       "      <td>N</td>\n",
       "      <td>0</td>\n",
       "      <td>102</td>\n",
       "      <td>0</td>\n",
       "      <td>516056</td>\n",
       "    </tr>\n",
       "    <tr>\n",
       "      <th>1</th>\n",
       "      <td>0</td>\n",
       "      <td>134508</td>\n",
       "      <td>45725</td>\n",
       "      <td>465.62</td>\n",
       "      <td>5</td>\n",
       "      <td>0</td>\n",
       "      <td>N</td>\n",
       "      <td>2</td>\n",
       "      <td>N</td>\n",
       "      <td>N</td>\n",
       "      <td>0</td>\n",
       "      <td>0</td>\n",
       "      <td>N</td>\n",
       "      <td>0</td>\n",
       "      <td>9</td>\n",
       "      <td>105114.0</td>\n",
       "      <td>451</td>\n",
       "      <td>0</td>\n",
       "      <td>N</td>\n",
       "      <td>5817</td>\n",
       "      <td>102</td>\n",
       "      <td>0</td>\n",
       "      <td>4376</td>\n",
       "    </tr>\n",
       "    <tr>\n",
       "      <th>2</th>\n",
       "      <td>6881</td>\n",
       "      <td>15408</td>\n",
       "      <td>188328</td>\n",
       "      <td>513.80</td>\n",
       "      <td>5</td>\n",
       "      <td>0</td>\n",
       "      <td>N</td>\n",
       "      <td>0</td>\n",
       "      <td>N</td>\n",
       "      <td>N</td>\n",
       "      <td>0</td>\n",
       "      <td>5</td>\n",
       "      <td>N</td>\n",
       "      <td>0</td>\n",
       "      <td>6</td>\n",
       "      <td>152458.0</td>\n",
       "      <td>457</td>\n",
       "      <td>59333</td>\n",
       "      <td>N</td>\n",
       "      <td>0</td>\n",
       "      <td>102</td>\n",
       "      <td>0</td>\n",
       "      <td>483434</td>\n",
       "    </tr>\n",
       "    <tr>\n",
       "      <th>3</th>\n",
       "      <td>6716</td>\n",
       "      <td>157159</td>\n",
       "      <td>29967</td>\n",
       "      <td>1016.11</td>\n",
       "      <td>5</td>\n",
       "      <td>62</td>\n",
       "      <td>N</td>\n",
       "      <td>5</td>\n",
       "      <td>N</td>\n",
       "      <td>N</td>\n",
       "      <td>0</td>\n",
       "      <td>5</td>\n",
       "      <td>N</td>\n",
       "      <td>0</td>\n",
       "      <td>5</td>\n",
       "      <td>172946.0</td>\n",
       "      <td>247</td>\n",
       "      <td>50436</td>\n",
       "      <td>N</td>\n",
       "      <td>3281</td>\n",
       "      <td>102</td>\n",
       "      <td>0</td>\n",
       "      <td>1407164</td>\n",
       "    </tr>\n",
       "    <tr>\n",
       "      <th>4</th>\n",
       "      <td>5975</td>\n",
       "      <td>105985</td>\n",
       "      <td>81305</td>\n",
       "      <td>713.66</td>\n",
       "      <td>5</td>\n",
       "      <td>62</td>\n",
       "      <td>N</td>\n",
       "      <td>4</td>\n",
       "      <td>N</td>\n",
       "      <td>N</td>\n",
       "      <td>0</td>\n",
       "      <td>5</td>\n",
       "      <td>N</td>\n",
       "      <td>0</td>\n",
       "      <td>6</td>\n",
       "      <td>182129.0</td>\n",
       "      <td>263</td>\n",
       "      <td>93775</td>\n",
       "      <td>N</td>\n",
       "      <td>5817</td>\n",
       "      <td>102</td>\n",
       "      <td>0</td>\n",
       "      <td>1051004</td>\n",
       "    </tr>\n",
       "    <tr>\n",
       "      <th>...</th>\n",
       "      <td>...</td>\n",
       "      <td>...</td>\n",
       "      <td>...</td>\n",
       "      <td>...</td>\n",
       "      <td>...</td>\n",
       "      <td>...</td>\n",
       "      <td>...</td>\n",
       "      <td>...</td>\n",
       "      <td>...</td>\n",
       "      <td>...</td>\n",
       "      <td>...</td>\n",
       "      <td>...</td>\n",
       "      <td>...</td>\n",
       "      <td>...</td>\n",
       "      <td>...</td>\n",
       "      <td>...</td>\n",
       "      <td>...</td>\n",
       "      <td>...</td>\n",
       "      <td>...</td>\n",
       "      <td>...</td>\n",
       "      <td>...</td>\n",
       "      <td>...</td>\n",
       "      <td>...</td>\n",
       "    </tr>\n",
       "    <tr>\n",
       "      <th>1521782</th>\n",
       "      <td>6322</td>\n",
       "      <td>91008</td>\n",
       "      <td>15189</td>\n",
       "      <td>578.38</td>\n",
       "      <td>5</td>\n",
       "      <td>75</td>\n",
       "      <td>Y</td>\n",
       "      <td>8</td>\n",
       "      <td>NaN</td>\n",
       "      <td>NaN</td>\n",
       "      <td>0</td>\n",
       "      <td>6</td>\n",
       "      <td>N</td>\n",
       "      <td>0</td>\n",
       "      <td>4</td>\n",
       "      <td>191642.0</td>\n",
       "      <td>209</td>\n",
       "      <td>38222</td>\n",
       "      <td>N</td>\n",
       "      <td>5817</td>\n",
       "      <td>102</td>\n",
       "      <td>0</td>\n",
       "      <td>1478280</td>\n",
       "    </tr>\n",
       "    <tr>\n",
       "      <th>1521783</th>\n",
       "      <td>3226</td>\n",
       "      <td>145107</td>\n",
       "      <td>116252</td>\n",
       "      <td>435.32</td>\n",
       "      <td>5</td>\n",
       "      <td>75</td>\n",
       "      <td>Y</td>\n",
       "      <td>8</td>\n",
       "      <td>NaN</td>\n",
       "      <td>NaN</td>\n",
       "      <td>0</td>\n",
       "      <td>6</td>\n",
       "      <td>N</td>\n",
       "      <td>0</td>\n",
       "      <td>13</td>\n",
       "      <td>102338.0</td>\n",
       "      <td>192</td>\n",
       "      <td>90135</td>\n",
       "      <td>N</td>\n",
       "      <td>1458</td>\n",
       "      <td>102</td>\n",
       "      <td>0</td>\n",
       "      <td>661087</td>\n",
       "    </tr>\n",
       "    <tr>\n",
       "      <th>1521784</th>\n",
       "      <td>6769</td>\n",
       "      <td>162168</td>\n",
       "      <td>93598</td>\n",
       "      <td>1.38</td>\n",
       "      <td>5</td>\n",
       "      <td>75</td>\n",
       "      <td>Y</td>\n",
       "      <td>8</td>\n",
       "      <td>NaN</td>\n",
       "      <td>NaN</td>\n",
       "      <td>0</td>\n",
       "      <td>6</td>\n",
       "      <td>N</td>\n",
       "      <td>0</td>\n",
       "      <td>29</td>\n",
       "      <td>234618.0</td>\n",
       "      <td>373</td>\n",
       "      <td>79246</td>\n",
       "      <td>N</td>\n",
       "      <td>5817</td>\n",
       "      <td>102</td>\n",
       "      <td>0</td>\n",
       "      <td>167073</td>\n",
       "    </tr>\n",
       "    <tr>\n",
       "      <th>1521785</th>\n",
       "      <td>6032</td>\n",
       "      <td>45406</td>\n",
       "      <td>197460</td>\n",
       "      <td>1.38</td>\n",
       "      <td>5</td>\n",
       "      <td>75</td>\n",
       "      <td>Y</td>\n",
       "      <td>2</td>\n",
       "      <td>NaN</td>\n",
       "      <td>NaN</td>\n",
       "      <td>0</td>\n",
       "      <td>6</td>\n",
       "      <td>N</td>\n",
       "      <td>0</td>\n",
       "      <td>24</td>\n",
       "      <td>215218.0</td>\n",
       "      <td>373</td>\n",
       "      <td>79246</td>\n",
       "      <td>N</td>\n",
       "      <td>5817</td>\n",
       "      <td>102</td>\n",
       "      <td>0</td>\n",
       "      <td>338215</td>\n",
       "    </tr>\n",
       "    <tr>\n",
       "      <th>1521786</th>\n",
       "      <td>6716</td>\n",
       "      <td>48723</td>\n",
       "      <td>176440</td>\n",
       "      <td>406.59</td>\n",
       "      <td>5</td>\n",
       "      <td>75</td>\n",
       "      <td>N</td>\n",
       "      <td>5</td>\n",
       "      <td>NaN</td>\n",
       "      <td>NaN</td>\n",
       "      <td>0</td>\n",
       "      <td>6</td>\n",
       "      <td>N</td>\n",
       "      <td>0</td>\n",
       "      <td>13</td>\n",
       "      <td>163603.0</td>\n",
       "      <td>251</td>\n",
       "      <td>69607</td>\n",
       "      <td>N</td>\n",
       "      <td>2310</td>\n",
       "      <td>102</td>\n",
       "      <td>0</td>\n",
       "      <td>1055258</td>\n",
       "    </tr>\n",
       "  </tbody>\n",
       "</table>\n",
       "<p>1521787 rows × 23 columns</p>\n",
       "</div>"
      ],
      "text/plain": [
       "         acqic   bacno    cano    conam  contp  csmcu ecfg  etymd flbmk  \\\n",
       "0         6881  113261   38038   513.80      5      0    N      0     N   \n",
       "1            0  134508   45725   465.62      5      0    N      2     N   \n",
       "2         6881   15408  188328   513.80      5      0    N      0     N   \n",
       "3         6716  157159   29967  1016.11      5     62    N      5     N   \n",
       "4         5975  105985   81305   713.66      5     62    N      4     N   \n",
       "...        ...     ...     ...      ...    ...    ...  ...    ...   ...   \n",
       "1521782   6322   91008   15189   578.38      5     75    Y      8   NaN   \n",
       "1521783   3226  145107  116252   435.32      5     75    Y      8   NaN   \n",
       "1521784   6769  162168   93598     1.38      5     75    Y      8   NaN   \n",
       "1521785   6032   45406  197460     1.38      5     75    Y      2   NaN   \n",
       "1521786   6716   48723  176440   406.59      5     75    N      5   NaN   \n",
       "\n",
       "        flg_3dsmk  fraud_ind  hcefg insfg  iterm  locdt     loctm  mcc  mchno  \\\n",
       "0               N          0      5     N      0     33  172652.0  457  59333   \n",
       "1               N          0      0     N      0      9  105114.0  451      0   \n",
       "2               N          0      5     N      0      6  152458.0  457  59333   \n",
       "3               N          0      5     N      0      5  172946.0  247  50436   \n",
       "4               N          0      5     N      0      6  182129.0  263  93775   \n",
       "...           ...        ...    ...   ...    ...    ...       ...  ...    ...   \n",
       "1521782       NaN          0      6     N      0      4  191642.0  209  38222   \n",
       "1521783       NaN          0      6     N      0     13  102338.0  192  90135   \n",
       "1521784       NaN          0      6     N      0     29  234618.0  373  79246   \n",
       "1521785       NaN          0      6     N      0     24  215218.0  373  79246   \n",
       "1521786       NaN          0      6     N      0     13  163603.0  251  69607   \n",
       "\n",
       "        ovrlt  scity  stocn  stscd    txkey  \n",
       "0           N      0    102      0   516056  \n",
       "1           N   5817    102      0     4376  \n",
       "2           N      0    102      0   483434  \n",
       "3           N   3281    102      0  1407164  \n",
       "4           N   5817    102      0  1051004  \n",
       "...       ...    ...    ...    ...      ...  \n",
       "1521782     N   5817    102      0  1478280  \n",
       "1521783     N   1458    102      0   661087  \n",
       "1521784     N   5817    102      0   167073  \n",
       "1521785     N   5817    102      0   338215  \n",
       "1521786     N   2310    102      0  1055258  \n",
       "\n",
       "[1521787 rows x 23 columns]"
      ]
     },
     "execution_count": 3,
     "metadata": {},
     "output_type": "execute_result"
    }
   ],
   "source": [
    "df_train"
   ]
  },
  {
   "cell_type": "code",
   "execution_count": 4,
   "metadata": {},
   "outputs": [
    {
     "data": {
      "text/html": [
       "<div>\n",
       "<style scoped>\n",
       "    .dataframe tbody tr th:only-of-type {\n",
       "        vertical-align: middle;\n",
       "    }\n",
       "\n",
       "    .dataframe tbody tr th {\n",
       "        vertical-align: top;\n",
       "    }\n",
       "\n",
       "    .dataframe thead th {\n",
       "        text-align: right;\n",
       "    }\n",
       "</style>\n",
       "<table border=\"1\" class=\"dataframe\">\n",
       "  <thead>\n",
       "    <tr style=\"text-align: right;\">\n",
       "      <th></th>\n",
       "      <th>acqic</th>\n",
       "      <th>bacno</th>\n",
       "      <th>cano</th>\n",
       "      <th>conam</th>\n",
       "      <th>contp</th>\n",
       "      <th>csmcu</th>\n",
       "      <th>etymd</th>\n",
       "      <th>fraud_ind</th>\n",
       "      <th>hcefg</th>\n",
       "      <th>iterm</th>\n",
       "      <th>locdt</th>\n",
       "      <th>loctm</th>\n",
       "      <th>mcc</th>\n",
       "      <th>mchno</th>\n",
       "      <th>scity</th>\n",
       "      <th>stocn</th>\n",
       "      <th>stscd</th>\n",
       "      <th>txkey</th>\n",
       "    </tr>\n",
       "  </thead>\n",
       "  <tbody>\n",
       "    <tr>\n",
       "      <th>count</th>\n",
       "      <td>1.521787e+06</td>\n",
       "      <td>1.521787e+06</td>\n",
       "      <td>1.521787e+06</td>\n",
       "      <td>1.521787e+06</td>\n",
       "      <td>1.521787e+06</td>\n",
       "      <td>1.521787e+06</td>\n",
       "      <td>1.521787e+06</td>\n",
       "      <td>1.521787e+06</td>\n",
       "      <td>1.521787e+06</td>\n",
       "      <td>1.521787e+06</td>\n",
       "      <td>1.521787e+06</td>\n",
       "      <td>1.521787e+06</td>\n",
       "      <td>1.521787e+06</td>\n",
       "      <td>1.521787e+06</td>\n",
       "      <td>1.521787e+06</td>\n",
       "      <td>1.521787e+06</td>\n",
       "      <td>1.521787e+06</td>\n",
       "      <td>1.521787e+06</td>\n",
       "    </tr>\n",
       "    <tr>\n",
       "      <th>mean</th>\n",
       "      <td>6.008003e+03</td>\n",
       "      <td>8.209027e+04</td>\n",
       "      <td>1.089170e+05</td>\n",
       "      <td>6.547219e+02</td>\n",
       "      <td>4.829368e+00</td>\n",
       "      <td>5.383324e+01</td>\n",
       "      <td>4.149114e+00</td>\n",
       "      <td>1.337572e-02</td>\n",
       "      <td>4.749410e+00</td>\n",
       "      <td>4.962784e-02</td>\n",
       "      <td>4.532732e+01</td>\n",
       "      <td>1.463152e+05</td>\n",
       "      <td>2.978089e+02</td>\n",
       "      <td>5.589022e+04</td>\n",
       "      <td>4.755128e+03</td>\n",
       "      <td>9.565116e+01</td>\n",
       "      <td>2.485499e-02</td>\n",
       "      <td>9.711265e+05</td>\n",
       "    </tr>\n",
       "    <tr>\n",
       "      <th>std</th>\n",
       "      <td>1.502420e+03</td>\n",
       "      <td>4.736249e+04</td>\n",
       "      <td>6.090363e+04</td>\n",
       "      <td>4.028078e+02</td>\n",
       "      <td>6.513408e-01</td>\n",
       "      <td>2.072135e+01</td>\n",
       "      <td>2.394259e+00</td>\n",
       "      <td>1.148774e-01</td>\n",
       "      <td>1.111927e+00</td>\n",
       "      <td>3.652493e-01</td>\n",
       "      <td>2.601889e+01</td>\n",
       "      <td>5.212107e+04</td>\n",
       "      <td>7.796778e+01</td>\n",
       "      <td>3.082297e+04</td>\n",
       "      <td>1.979815e+03</td>\n",
       "      <td>1.890027e+01</td>\n",
       "      <td>2.216804e-01</td>\n",
       "      <td>5.641322e+05</td>\n",
       "    </tr>\n",
       "    <tr>\n",
       "      <th>min</th>\n",
       "      <td>0.000000e+00</td>\n",
       "      <td>1.000000e+00</td>\n",
       "      <td>0.000000e+00</td>\n",
       "      <td>0.000000e+00</td>\n",
       "      <td>0.000000e+00</td>\n",
       "      <td>0.000000e+00</td>\n",
       "      <td>0.000000e+00</td>\n",
       "      <td>0.000000e+00</td>\n",
       "      <td>0.000000e+00</td>\n",
       "      <td>0.000000e+00</td>\n",
       "      <td>1.000000e+00</td>\n",
       "      <td>0.000000e+00</td>\n",
       "      <td>0.000000e+00</td>\n",
       "      <td>0.000000e+00</td>\n",
       "      <td>0.000000e+00</td>\n",
       "      <td>0.000000e+00</td>\n",
       "      <td>0.000000e+00</td>\n",
       "      <td>0.000000e+00</td>\n",
       "    </tr>\n",
       "    <tr>\n",
       "      <th>25%</th>\n",
       "      <td>5.982000e+03</td>\n",
       "      <td>4.140300e+04</td>\n",
       "      <td>5.763500e+04</td>\n",
       "      <td>4.370600e+02</td>\n",
       "      <td>5.000000e+00</td>\n",
       "      <td>6.200000e+01</td>\n",
       "      <td>2.000000e+00</td>\n",
       "      <td>0.000000e+00</td>\n",
       "      <td>5.000000e+00</td>\n",
       "      <td>0.000000e+00</td>\n",
       "      <td>2.300000e+01</td>\n",
       "      <td>1.109310e+05</td>\n",
       "      <td>2.500000e+02</td>\n",
       "      <td>3.377400e+04</td>\n",
       "      <td>3.795000e+03</td>\n",
       "      <td>1.020000e+02</td>\n",
       "      <td>0.000000e+00</td>\n",
       "      <td>4.869475e+05</td>\n",
       "    </tr>\n",
       "    <tr>\n",
       "      <th>50%</th>\n",
       "      <td>6.716000e+03</td>\n",
       "      <td>8.191200e+04</td>\n",
       "      <td>1.097850e+05</td>\n",
       "      <td>5.919000e+02</td>\n",
       "      <td>5.000000e+00</td>\n",
       "      <td>6.200000e+01</td>\n",
       "      <td>4.000000e+00</td>\n",
       "      <td>0.000000e+00</td>\n",
       "      <td>5.000000e+00</td>\n",
       "      <td>0.000000e+00</td>\n",
       "      <td>4.500000e+01</td>\n",
       "      <td>1.515220e+05</td>\n",
       "      <td>2.640000e+02</td>\n",
       "      <td>5.936000e+04</td>\n",
       "      <td>5.817000e+03</td>\n",
       "      <td>1.020000e+02</td>\n",
       "      <td>0.000000e+00</td>\n",
       "      <td>9.795800e+05</td>\n",
       "    </tr>\n",
       "    <tr>\n",
       "      <th>75%</th>\n",
       "      <td>6.769000e+03</td>\n",
       "      <td>1.230590e+05</td>\n",
       "      <td>1.618760e+05</td>\n",
       "      <td>8.073400e+02</td>\n",
       "      <td>5.000000e+00</td>\n",
       "      <td>6.200000e+01</td>\n",
       "      <td>5.000000e+00</td>\n",
       "      <td>0.000000e+00</td>\n",
       "      <td>5.000000e+00</td>\n",
       "      <td>0.000000e+00</td>\n",
       "      <td>6.800000e+01</td>\n",
       "      <td>1.858270e+05</td>\n",
       "      <td>3.430000e+02</td>\n",
       "      <td>7.920000e+04</td>\n",
       "      <td>5.817000e+03</td>\n",
       "      <td>1.020000e+02</td>\n",
       "      <td>0.000000e+00</td>\n",
       "      <td>1.455200e+06</td>\n",
       "    </tr>\n",
       "    <tr>\n",
       "      <th>max</th>\n",
       "      <td>6.884000e+03</td>\n",
       "      <td>1.638840e+05</td>\n",
       "      <td>2.133340e+05</td>\n",
       "      <td>7.208770e+03</td>\n",
       "      <td>6.000000e+00</td>\n",
       "      <td>7.500000e+01</td>\n",
       "      <td>1.000000e+01</td>\n",
       "      <td>1.000000e+00</td>\n",
       "      <td>9.000000e+00</td>\n",
       "      <td>8.000000e+00</td>\n",
       "      <td>9.000000e+01</td>\n",
       "      <td>2.359590e+05</td>\n",
       "      <td>4.590000e+02</td>\n",
       "      <td>1.033070e+05</td>\n",
       "      <td>6.671000e+03</td>\n",
       "      <td>1.070000e+02</td>\n",
       "      <td>4.000000e+00</td>\n",
       "      <td>1.958239e+06</td>\n",
       "    </tr>\n",
       "  </tbody>\n",
       "</table>\n",
       "</div>"
      ],
      "text/plain": [
       "              acqic         bacno          cano         conam         contp  \\\n",
       "count  1.521787e+06  1.521787e+06  1.521787e+06  1.521787e+06  1.521787e+06   \n",
       "mean   6.008003e+03  8.209027e+04  1.089170e+05  6.547219e+02  4.829368e+00   \n",
       "std    1.502420e+03  4.736249e+04  6.090363e+04  4.028078e+02  6.513408e-01   \n",
       "min    0.000000e+00  1.000000e+00  0.000000e+00  0.000000e+00  0.000000e+00   \n",
       "25%    5.982000e+03  4.140300e+04  5.763500e+04  4.370600e+02  5.000000e+00   \n",
       "50%    6.716000e+03  8.191200e+04  1.097850e+05  5.919000e+02  5.000000e+00   \n",
       "75%    6.769000e+03  1.230590e+05  1.618760e+05  8.073400e+02  5.000000e+00   \n",
       "max    6.884000e+03  1.638840e+05  2.133340e+05  7.208770e+03  6.000000e+00   \n",
       "\n",
       "              csmcu         etymd     fraud_ind         hcefg         iterm  \\\n",
       "count  1.521787e+06  1.521787e+06  1.521787e+06  1.521787e+06  1.521787e+06   \n",
       "mean   5.383324e+01  4.149114e+00  1.337572e-02  4.749410e+00  4.962784e-02   \n",
       "std    2.072135e+01  2.394259e+00  1.148774e-01  1.111927e+00  3.652493e-01   \n",
       "min    0.000000e+00  0.000000e+00  0.000000e+00  0.000000e+00  0.000000e+00   \n",
       "25%    6.200000e+01  2.000000e+00  0.000000e+00  5.000000e+00  0.000000e+00   \n",
       "50%    6.200000e+01  4.000000e+00  0.000000e+00  5.000000e+00  0.000000e+00   \n",
       "75%    6.200000e+01  5.000000e+00  0.000000e+00  5.000000e+00  0.000000e+00   \n",
       "max    7.500000e+01  1.000000e+01  1.000000e+00  9.000000e+00  8.000000e+00   \n",
       "\n",
       "              locdt         loctm           mcc         mchno         scity  \\\n",
       "count  1.521787e+06  1.521787e+06  1.521787e+06  1.521787e+06  1.521787e+06   \n",
       "mean   4.532732e+01  1.463152e+05  2.978089e+02  5.589022e+04  4.755128e+03   \n",
       "std    2.601889e+01  5.212107e+04  7.796778e+01  3.082297e+04  1.979815e+03   \n",
       "min    1.000000e+00  0.000000e+00  0.000000e+00  0.000000e+00  0.000000e+00   \n",
       "25%    2.300000e+01  1.109310e+05  2.500000e+02  3.377400e+04  3.795000e+03   \n",
       "50%    4.500000e+01  1.515220e+05  2.640000e+02  5.936000e+04  5.817000e+03   \n",
       "75%    6.800000e+01  1.858270e+05  3.430000e+02  7.920000e+04  5.817000e+03   \n",
       "max    9.000000e+01  2.359590e+05  4.590000e+02  1.033070e+05  6.671000e+03   \n",
       "\n",
       "              stocn         stscd         txkey  \n",
       "count  1.521787e+06  1.521787e+06  1.521787e+06  \n",
       "mean   9.565116e+01  2.485499e-02  9.711265e+05  \n",
       "std    1.890027e+01  2.216804e-01  5.641322e+05  \n",
       "min    0.000000e+00  0.000000e+00  0.000000e+00  \n",
       "25%    1.020000e+02  0.000000e+00  4.869475e+05  \n",
       "50%    1.020000e+02  0.000000e+00  9.795800e+05  \n",
       "75%    1.020000e+02  0.000000e+00  1.455200e+06  \n",
       "max    1.070000e+02  4.000000e+00  1.958239e+06  "
      ]
     },
     "execution_count": 4,
     "metadata": {},
     "output_type": "execute_result"
    }
   ],
   "source": [
    "df_train.describe()"
   ]
  },
  {
   "cell_type": "code",
   "execution_count": 5,
   "metadata": {},
   "outputs": [
    {
     "data": {
      "text/plain": [
       "Index(['acqic', 'bacno', 'cano', 'conam', 'contp', 'csmcu', 'ecfg', 'etymd',\n",
       "       'flbmk', 'flg_3dsmk', 'fraud_ind', 'hcefg', 'insfg', 'iterm', 'locdt',\n",
       "       'loctm', 'mcc', 'mchno', 'ovrlt', 'scity', 'stocn', 'stscd', 'txkey'],\n",
       "      dtype='object')"
      ]
     },
     "execution_count": 5,
     "metadata": {},
     "output_type": "execute_result"
    }
   ],
   "source": [
    "df_train.columns"
   ]
  },
  {
   "cell_type": "code",
   "execution_count": 6,
   "metadata": {},
   "outputs": [],
   "source": [
    "df_fraud=df_train[df_train['fraud_ind']==1]"
   ]
  },
  {
   "cell_type": "code",
   "execution_count": 7,
   "metadata": {},
   "outputs": [
    {
     "data": {
      "text/plain": [
       "(1521787, 23)"
      ]
     },
     "execution_count": 7,
     "metadata": {},
     "output_type": "execute_result"
    }
   ],
   "source": [
    "df_train.shape"
   ]
  },
  {
   "cell_type": "code",
   "execution_count": 8,
   "metadata": {},
   "outputs": [
    {
     "data": {
      "text/plain": [
       "(20355, 23)"
      ]
     },
     "execution_count": 8,
     "metadata": {},
     "output_type": "execute_result"
    }
   ],
   "source": [
    "df_fraud.shape\n",
    "#測試集總共有1521787筆\n",
    "#盜刷則有20355筆\n",
    "#比例0.133757836218113"
   ]
  },
  {
   "cell_type": "code",
   "execution_count": 9,
   "metadata": {},
   "outputs": [
    {
     "data": {
      "text/plain": [
       "acqic          int64\n",
       "bacno          int64\n",
       "cano           int64\n",
       "conam        float64\n",
       "contp          int64\n",
       "csmcu          int64\n",
       "ecfg          object\n",
       "etymd          int64\n",
       "flbmk         object\n",
       "flg_3dsmk     object\n",
       "fraud_ind      int64\n",
       "hcefg          int64\n",
       "insfg         object\n",
       "iterm          int64\n",
       "locdt          int64\n",
       "loctm        float64\n",
       "mcc            int64\n",
       "mchno          int64\n",
       "ovrlt         object\n",
       "scity          int64\n",
       "stocn          int64\n",
       "stscd          int64\n",
       "txkey          int64\n",
       "dtype: object"
      ]
     },
     "execution_count": 9,
     "metadata": {},
     "output_type": "execute_result"
    }
   ],
   "source": [
    "df_train.dtypes"
   ]
  },
  {
   "cell_type": "code",
   "execution_count": 10,
   "metadata": {},
   "outputs": [
    {
     "data": {
      "text/plain": [
       "Index(['acqic', 'bacno', 'cano', 'conam', 'contp', 'csmcu', 'ecfg', 'etymd',\n",
       "       'flbmk', 'flg_3dsmk', 'fraud_ind', 'hcefg', 'insfg', 'iterm', 'locdt',\n",
       "       'loctm', 'mcc', 'mchno', 'ovrlt', 'scity', 'stocn', 'stscd', 'txkey'],\n",
       "      dtype='object')"
      ]
     },
     "execution_count": 10,
     "metadata": {},
     "output_type": "execute_result"
    }
   ],
   "source": [
    "df_train.columns.unique()"
   ]
  },
  {
   "cell_type": "code",
   "execution_count": 11,
   "metadata": {},
   "outputs": [
    {
     "name": "stdout",
     "output_type": "stream",
     "text": [
      "acqic\n",
      "bacno\n",
      "cano\n",
      "conam\n",
      "contp\n",
      "csmcu\n",
      "ecfg\n",
      "etymd\n",
      "flbmk\n",
      "flg_3dsmk\n",
      "fraud_ind\n",
      "hcefg\n",
      "insfg\n",
      "iterm\n",
      "locdt\n",
      "loctm\n",
      "mcc\n",
      "mchno\n",
      "ovrlt\n",
      "scity\n",
      "stocn\n",
      "stscd\n",
      "txkey\n"
     ]
    }
   ],
   "source": [
    "for i in df_train.columns:\n",
    "    print(i)"
   ]
  },
  {
   "cell_type": "code",
   "execution_count": 12,
   "metadata": {},
   "outputs": [
    {
     "name": "stdout",
     "output_type": "stream",
     "text": [
      "acqic\n",
      "[6881    0 6716 ...  571 2836 3866]\n",
      "bacno\n",
      "[113261 134508  15408 ... 153635 119635 120971]\n",
      "cano\n",
      "[ 38038  45725 188328 ... 109682 208215 137381]\n",
      "conam\n",
      "[ 513.8   465.62 1016.11 ... 1761.71 2152.98  669.56]\n",
      "contp\n",
      "[5 3 6 2 4 0 1]\n",
      "csmcu\n",
      "[ 0 62 74 61 13 67 60 26 49 10 71 56 20 38 22  4 47 54 75 32 66 29 28 14\n",
      " 50 30 31 45 24 40 35 59  3 48 63 52 41 23 17 16 73 51 53 44 18 12 15  5\n",
      " 70 21 39 27 42 11 72  6 25  7 43  2 19 37  1 64 57 36 68 55  9 46 34 69]\n",
      "ecfg\n",
      "['N' 'Y']\n",
      "etymd\n",
      "[ 0  2  5  4  8  1  9  6  3  7 10]\n",
      "flbmk\n",
      "['N' 'Y' nan]\n",
      "flg_3dsmk\n",
      "['N' 'Y' nan]\n",
      "fraud_ind\n",
      "[0 1]\n",
      "hcefg\n",
      "[5 0 3 1 2 7 8 9 6]\n",
      "insfg\n",
      "['N' 'Y']\n",
      "iterm\n",
      "[0 1 2 8 3 4 7 6 5]\n",
      "locdt\n",
      "[33  9  6  5  7 10  8 11 13 14 22 21 25 24 15 12 19 28 18 17 16 23 31 26\n",
      "  2 30  4 20 27 29  1  3 34 66 32 67 70 69 65 35 39 43 38 45 48 54 50 68\n",
      " 36 37 61 42 49 44 58 62 60 63 47 40 41 46 76 51 74 75 52 56 85 53 89 86\n",
      " 73 55 57 59 79 78 72 71 64 80 81 84 77 82 87 88 83 90]\n",
      "loctm\n",
      "[172652. 105114. 152458. ...  62341.  35905.  52407.]\n",
      "mcc\n",
      "[457 451 247 263 339 373 264 459 329 203 291 453 277 292 317 251 343 289\n",
      " 432 245 250 380 337 408 397 356 193 248 454 294 441 340 191 423 349 281\n",
      " 207 255 306 374 319 458 288 272 192 201 257 388 381 253 456 299 266 296\n",
      " 218 334 286 270 275 421  55  52 300 411 305 307 425 209 273 205 449 238\n",
      " 410 357 189 308 412 413  57 385 318 367 311 280 285 293 234 220  80 417\n",
      " 312 227 362 430 210 406 389  14 445 244 323  11 212 400 309 350 426 414\n",
      " 322 113 195 254 246 262 258 405 274 332 269 241 446 298 364 376 243 404\n",
      " 295 433 297 321  18 351 368 106 190  36 366 326 271 284 206 345 225 197\n",
      " 360 384 231 398 316 226 261 420 283 178  74 232 396 228  37 320   5 151\n",
      " 365  65 287  78 310 331  13 315 379 259 437 333 401 375  44 390 383 419\n",
      "  93  15 123  98 324 217 252 336  86 313 213  97 372  51 198  59 239 342\n",
      " 149  26 242  35  29 435 403 370 115 434 386 302  72  68 304   3  24  20\n",
      " 196 429 335 428 214 301 268  39 415 394   2  85 143 229 444  84 180  22\n",
      "  54 233  23 276 452  53  31 338 124 208 399 221 140  96 114 279 104 314\n",
      " 377  21 359 344  87 155 256  49   9 447  30 127 407 327 137 129 222 354\n",
      " 427 102 128 409 120 392 448  77 431 130 378 265  99 215 387  91 230  76\n",
      " 141  66 172 103   6 325 164  48  92 278  61 111 133 119 224 393  16  69\n",
      " 402  19 181   0 416  71 117 455 148 175 369 162 160 240 348 353 424  63\n",
      " 163 330  34  17 177 135 391  88 328 166 439  45 167  70 116 361  89 131\n",
      " 173 161 184  67 341 118 450  42  58 237 358  25 150 211  73  10 105 418\n",
      " 303  43 142  79 249 108 122 153 235  90 202 156 204 223 260  75 159  27\n",
      " 112 352 139 267 438 170 109  12 147 371 145 183 216 179  81 136  60 355\n",
      " 121 382  50 134 219 168   7 436 176 200  83  95 422 395  32  47  33 282\n",
      " 171  41 125 186 138  64   1 169 440  56 236   4 363 101 165 144 187 442\n",
      " 188 346]\n",
      "mchno\n",
      "[59333     0 50436 ...  4443 44373   198]\n",
      "ovrlt\n",
      "['N' 'Y']\n",
      "scity\n",
      "[   0 5817 3281 ... 1631  925 3799]\n",
      "stocn\n",
      "[102  44  14  46  38  93 104  20  75  27  52  16  61  36  50   2  41  42\n",
      "  78  49  10   6  98  17  87  32  81  86  73  92  85  89  55   1  53 101\n",
      "  56  68  62  47   0  76  45  72  94  25  31   4  39  48 106  91  83  34\n",
      "  95  40  26   5  43  90  54 107  67  30  28  69  70  22  60  57  37   8\n",
      "  96  35  74  63  80  51   9 105  13  11  64  59  82  15  79  65  33  77\n",
      "   3  84  99  19   7  29  24  18 100  97  71  12  88]\n",
      "stscd\n",
      "[0 2 4 1 3]\n",
      "txkey\n",
      "[ 516056    4376  483434 ...  167073  338215 1055258]\n"
     ]
    }
   ],
   "source": [
    "for i in df_train.columns:\n",
    "    print(i)\n",
    "    print(df_train[i].unique())"
   ]
  },
  {
   "cell_type": "code",
   "execution_count": 13,
   "metadata": {},
   "outputs": [],
   "source": [
    "import matplotlib as mpl\n",
    "import matplotlib.pyplot as plt"
   ]
  },
  {
   "cell_type": "code",
   "execution_count": 14,
   "metadata": {},
   "outputs": [
    {
     "data": {
      "image/png": "[encoded data removed]",
      "text/plain": [
       "<Figure size 640x480 with 1 Axes>"
      ]
     },
     "metadata": {},
     "output_type": "display_data"
    }
   ],
   "source": [
    "# ecfg 網路交易註記 筆數\n",
    "x1=df_train.ecfg.unique()\n",
    "y1=(df_train[df_train.ecfg=='N'].shape[0],df_train[df_train.ecfg=='Y'].shape[0])\n",
    "plt.bar(x1,y1)\n",
    "plt.show()"
   ]
  },
  {
   "cell_type": "code",
   "execution_count": 15,
   "metadata": {},
   "outputs": [
    {
     "data": {
      "image/png": "[encoded data removed]",
      "text/plain": [
       "<Figure size 640x480 with 1 Axes>"
      ]
     },
     "metadata": {},
     "output_type": "display_data"
    }
   ],
   "source": [
    "# etymd 交易型態\n",
    "x1=(0,2,5,4,8,1,9,6,3,7,10)\n",
    "y1=(df_train[df_train.etymd==0].shape[0], #130022\n",
    "    df_train[df_train.etymd==2].shape[0],  #377669\n",
    "    df_train[df_train.etymd==5].shape[0], #404611\n",
    "   df_train[df_train.etymd==4].shape[0], #320502\n",
    "   df_train[df_train.etymd==8].shape[0], #243995\n",
    "   df_train[df_train.etymd==1].shape[0], #10339\n",
    "   df_train[df_train.etymd==9].shape[0], #30076\n",
    "   df_train[df_train.etymd==6].shape[0], #1978\n",
    "   df_train[df_train.etymd==3].shape[0], #2350\n",
    "   df_train[df_train.etymd==7].shape[0], #228\n",
    "   df_train[df_train.etymd==10].shape[0],) #17\n",
    "plt.bar(x1,y1)\n",
    "plt.show()"
   ]
  },
  {
   "cell_type": "code",
   "execution_count": 16,
   "metadata": {},
   "outputs": [
    {
     "data": {
      "text/plain": [
       "17"
      ]
     },
     "execution_count": 16,
     "metadata": {},
     "output_type": "execute_result"
    }
   ],
   "source": [
    "df_train[df_train.etymd==10].shape[0]"
   ]
  },
  {
   "cell_type": "code",
   "execution_count": 17,
   "metadata": {},
   "outputs": [
    {
     "data": {
      "image/png": "[encoded data removed]",
      "text/plain": [
       "<Figure size 640x480 with 1 Axes>"
      ]
     },
     "metadata": {},
     "output_type": "display_data"
    }
   ],
   "source": [
    "# flbmk 網路交易註記 筆數\n",
    "x1=('N','Y','nan')\n",
    "y1=(df_train[df_train.flbmk=='N'].shape[0], #1504133\n",
    "    df_train[df_train.flbmk=='Y'].shape[0], #5073\n",
    "   df_train[df_train.flbmk== np.nan].shape[0])\n",
    "plt.bar(x1,y1)\n",
    "plt.show()"
   ]
  },
  {
   "cell_type": "code",
   "execution_count": 18,
   "metadata": {},
   "outputs": [
    {
     "data": {
      "image/png": "[encoded data removed]",
      "text/plain": [
       "<Figure size 640x480 with 1 Axes>"
      ]
     },
     "metadata": {},
     "output_type": "display_data"
    }
   ],
   "source": [
    "# hcefg 交付型態 筆數\n",
    "x1=(5, 0, 3, 1, 2, 7, 8, 9, 6)\n",
    "y1=(df_train[df_train.hcefg ==5].shape[0], #1412039\n",
    "    df_train[df_train.hcefg ==0].shape[0],#53925\n",
    "   df_train[df_train.hcefg ==3].shape[0], #313\n",
    "   df_train[df_train.hcefg ==1].shape[0], #33055\n",
    "   df_train[df_train.hcefg ==2].shape[0], #3365\n",
    "   df_train[df_train.hcefg ==7].shape[0], #1788\n",
    "   df_train[df_train.hcefg ==8].shape[0], #3820\n",
    "   df_train[df_train.hcefg ==9].shape[0], #901\n",
    "   df_train[df_train.hcefg ==6].shape[0],)#12581\n",
    "plt.bar(x1,y1)\n",
    "plt.show()"
   ]
  },
  {
   "cell_type": "code",
   "execution_count": 19,
   "metadata": {},
   "outputs": [
    {
     "data": {
      "image/png": "[encoded data removed]",
      "text/plain": [
       "<Figure size 640x480 with 1 Axes>"
      ]
     },
     "metadata": {},
     "output_type": "display_data"
    }
   ],
   "source": [
    "# insfg 分期交易註記 筆數\n",
    "x1=('N','Y')\n",
    "y1=(df_train[df_train.insfg=='N'].shape[0], #1479475\n",
    "    df_train[df_train.insfg=='Y'].shape[0] ) #42312\n",
    "plt.bar(x1,y1)\n",
    "plt.show()"
   ]
  },
  {
   "cell_type": "code",
   "execution_count": 20,
   "metadata": {},
   "outputs": [
    {
     "data": {
      "image/png": "[encoded data removed]",
      "text/plain": [
       "<Figure size 640x480 with 1 Axes>"
      ]
     },
     "metadata": {},
     "output_type": "display_data"
    }
   ],
   "source": [
    "# iterm 分期期數 筆數\n",
    "x1=(0, 1, 2, 8, 3, 4, 7, 6, 5)\n",
    "y1=(df_train[df_train.iterm ==0].shape[0], #1479498\n",
    "    df_train[df_train.iterm ==1].shape[0],#22590\n",
    "   df_train[df_train.iterm ==2].shape[0], #15045\n",
    "   df_train[df_train.iterm ==8].shape[0], #429\n",
    "   df_train[df_train.iterm ==3].shape[0], #448\n",
    "   df_train[df_train.iterm ==4].shape[0], #2686\n",
    "   df_train[df_train.iterm ==7].shape[0], #854\n",
    "   df_train[df_train.iterm ==6].shape[0], #160\n",
    "   df_train[df_train.iterm ==5].shape[0],)#77\n",
    "plt.bar(x1,y1)\n",
    "plt.show()"
   ]
  },
  {
   "cell_type": "code",
   "execution_count": 21,
   "metadata": {},
   "outputs": [
    {
     "data": {
      "image/png": "[encoded data removed]",
      "text/plain": [
       "<Figure size 640x480 with 1 Axes>"
      ]
     },
     "metadata": {},
     "output_type": "display_data"
    }
   ],
   "source": [
    "# ovrlt  超額註記碼 筆數\n",
    "x1=('N','Y')\n",
    "y1=(df_train[df_train.ovrlt=='N'].shape[0], #1501536\n",
    "    df_train[df_train.ovrlt=='Y'].shape[0] ) #20251\n",
    "plt.bar(x1,y1)\n",
    "plt.show()"
   ]
  },
  {
   "cell_type": "code",
   "execution_count": 22,
   "metadata": {},
   "outputs": [
    {
     "data": {
      "image/png": "[encoded data removed]",
      "text/plain": [
       "<Figure size 640x480 with 1 Axes>"
      ]
     },
     "metadata": {},
     "output_type": "display_data"
    }
   ],
   "source": [
    "# scity 消費城市  筆數\n",
    "x1=(0,1,2,3,4)\n",
    "y1=(df_train[df_train.scity  ==0].shape[0], #143244\n",
    "    df_train[df_train.scity  ==1].shape[0], #5\n",
    "   df_train[df_train.scity  ==2].shape[0], #0\n",
    "   df_train[df_train.scity  ==3].shape[0], #5\n",
    "   df_train[df_train.scity  ==4].shape[0],) #0\n",
    "plt.bar(x1,y1)\n",
    "plt.show()"
   ]
  },
  {
   "cell_type": "code",
   "execution_count": 23,
   "metadata": {},
   "outputs": [
    {
     "data": {
      "text/plain": [
       "0"
      ]
     },
     "execution_count": 23,
     "metadata": {},
     "output_type": "execute_result"
    }
   ],
   "source": [
    "df_train[df_train.scity  ==4].shape[0]"
   ]
  },
  {
   "attachments": {},
   "cell_type": "markdown",
   "metadata": {},
   "source": [
    "## 有被盜刷"
   ]
  },
  {
   "attachments": {},
   "cell_type": "markdown",
   "metadata": {},
   "source": [
    "### 盜刷中 不是網路交易的比較多"
   ]
  },
  {
   "cell_type": "code",
   "execution_count": 24,
   "metadata": {},
   "outputs": [
    {
     "data": {
      "image/png": "[encoded data removed]",
      "text/plain": [
       "<Figure size 640x480 with 1 Axes>"
      ]
     },
     "metadata": {},
     "output_type": "display_data"
    }
   ],
   "source": [
    "# ecfg 網路交易註記 筆數\n",
    "x1=df_fraud.ecfg.unique()\n",
    "y1=(df_fraud[df_fraud.ecfg=='N'].shape[0],df_fraud[df_fraud.ecfg=='Y'].shape[0])\n",
    "plt.bar(x1,y1)\n",
    "plt.show()"
   ]
  },
  {
   "attachments": {},
   "cell_type": "markdown",
   "metadata": {},
   "source": [
    "### 盜刷中 交易型態主要為2 \\ 8"
   ]
  },
  {
   "cell_type": "code",
   "execution_count": 25,
   "metadata": {},
   "outputs": [
    {
     "data": {
      "image/png": "[encoded data removed]",
      "text/plain": [
       "<Figure size 640x480 with 1 Axes>"
      ]
     },
     "metadata": {},
     "output_type": "display_data"
    }
   ],
   "source": [
    "# etymd 交易型態\n",
    "x1=(0,2,5,4,8,1,9,6,3,7,10)\n",
    "y1=(df_fraud[df_fraud.etymd==0].shape[0], #130022\n",
    "    df_fraud[df_fraud.etymd==2].shape[0],  #377669\n",
    "    df_fraud[df_fraud.etymd==5].shape[0], #404611\n",
    "   df_fraud[df_fraud.etymd==4].shape[0], #320502\n",
    "   df_fraud[df_fraud.etymd==8].shape[0], #243995\n",
    "   df_fraud[df_fraud.etymd==1].shape[0], #10339\n",
    "   df_fraud[df_fraud.etymd==9].shape[0], #30076\n",
    "   df_fraud[df_fraud.etymd==6].shape[0], #1978\n",
    "   df_fraud[df_fraud.etymd==3].shape[0], #2350\n",
    "   df_fraud[df_fraud.etymd==7].shape[0], #228\n",
    "   df_fraud[df_fraud.etymd==10].shape[0],) #17\n",
    "plt.bar(x1,y1)\n",
    "plt.show()"
   ]
  },
  {
   "attachments": {},
   "cell_type": "markdown",
   "metadata": {},
   "source": [
    "### 盜刷中 不是網路交易註記 為大宗"
   ]
  },
  {
   "cell_type": "code",
   "execution_count": 26,
   "metadata": {},
   "outputs": [
    {
     "data": {
      "image/png": "[encoded data removed]",
      "text/plain": [
       "<Figure size 640x480 with 1 Axes>"
      ]
     },
     "metadata": {},
     "output_type": "display_data"
    }
   ],
   "source": [
    "# flbmk 網路交易註記 筆數\n",
    "x1=('N','Y','nan')\n",
    "y1=(df_fraud[df_fraud.flbmk=='N'].shape[0], \n",
    "    df_fraud[df_fraud.flbmk=='Y'].shape[0], \n",
    "   df_fraud[df_fraud.flbmk== np.nan].shape[0])\n",
    "plt.bar(x1,y1)\n",
    "plt.show()"
   ]
  },
  {
   "cell_type": "code",
   "execution_count": 27,
   "metadata": {},
   "outputs": [],
   "source": [
    "### 盜刷中 交付型態主要為5"
   ]
  },
  {
   "cell_type": "code",
   "execution_count": 28,
   "metadata": {},
   "outputs": [
    {
     "data": {
      "text/plain": [
       "195"
      ]
     },
     "execution_count": 28,
     "metadata": {},
     "output_type": "execute_result"
    }
   ],
   "source": [
    "df_fraud[df_fraud.hcefg ==6].shape[0]"
   ]
  },
  {
   "cell_type": "code",
   "execution_count": 29,
   "metadata": {},
   "outputs": [
    {
     "data": {
      "image/png": "[encoded data removed]",
      "text/plain": [
       "<Figure size 640x480 with 1 Axes>"
      ]
     },
     "metadata": {},
     "output_type": "display_data"
    }
   ],
   "source": [
    "# hcefg 交付型態 筆數\n",
    "x1=(5, 0, 3, 1, 2, 7, 8, 9, 6)\n",
    "y1=(df_fraud[df_fraud.hcefg ==5].shape[0],   #20109\n",
    "    df_fraud[df_fraud.hcefg ==0].shape[0], #21\n",
    "   df_fraud[df_fraud.hcefg ==3].shape[0], #0\n",
    "   df_fraud[df_fraud.hcefg ==1].shape[0],  #26\n",
    "   df_fraud[df_fraud.hcefg ==2].shape[0],   #0\n",
    "   df_fraud[df_fraud.hcefg ==7].shape[0],   #4\n",
    "   df_fraud[df_fraud.hcefg ==8].shape[0],  #0\n",
    "  df_fraud[df_fraud.hcefg ==9].shape[0],   #0\n",
    "   df_fraud[df_fraud.hcefg ==6].shape[0],) #195\n",
    "plt.bar(x1,y1) \n",
    "plt.show()"
   ]
  },
  {
   "attachments": {},
   "cell_type": "markdown",
   "metadata": {},
   "source": [
    "## 盜刷中，主要為不分期交易"
   ]
  },
  {
   "cell_type": "code",
   "execution_count": 30,
   "metadata": {},
   "outputs": [
    {
     "data": {
      "image/png": "[encoded data removed]",
      "text/plain": [
       "<Figure size 640x480 with 1 Axes>"
      ]
     },
     "metadata": {},
     "output_type": "display_data"
    }
   ],
   "source": [
    "# insfg 分期交易註記 筆數\n",
    "x1=('N','Y')\n",
    "y1=(df_fraud[df_fraud.insfg=='N'].shape[0], \n",
    "    df_fraud[df_fraud.insfg=='Y'].shape[0] ) \n",
    "plt.bar(x1,y1)\n",
    "plt.show()"
   ]
  },
  {
   "cell_type": "code",
   "execution_count": 31,
   "metadata": {},
   "outputs": [
    {
     "data": {
      "image/png": "[encoded data removed]",
      "text/plain": [
       "<Figure size 640x480 with 1 Axes>"
      ]
     },
     "metadata": {},
     "output_type": "display_data"
    }
   ],
   "source": [
    "# iterm 分期期數 筆數\n",
    "x1=(0, 1, 2, 8, 3, 4, 7, 6, 5)\n",
    "y1=(df_fraud[df_fraud.iterm ==0].shape[0], \n",
    "    df_fraud[df_fraud.iterm ==1].shape[0],\n",
    "   df_fraud[df_fraud.iterm ==2].shape[0], \n",
    "   df_fraud[df_fraud.iterm ==8].shape[0], \n",
    "   df_fraud[df_fraud.iterm ==3].shape[0], \n",
    "    df_fraud[df_fraud.iterm ==4].shape[0], \n",
    "   df_fraud[df_fraud.iterm ==7].shape[0], \n",
    "   df_fraud[df_fraud.iterm ==6].shape[0], \n",
    "   df_fraud[df_fraud.iterm ==5].shape[0],)\n",
    "plt.bar(x1,y1)\n",
    "plt.show()"
   ]
  },
  {
   "attachments": {},
   "cell_type": "markdown",
   "metadata": {},
   "source": [
    "### 盜刷中，超額註記碼主要為＝Ｎ"
   ]
  },
  {
   "cell_type": "code",
   "execution_count": 32,
   "metadata": {},
   "outputs": [
    {
     "data": {
      "image/png": "[encoded data removed]",
      "text/plain": [
       "<Figure size 640x480 with 1 Axes>"
      ]
     },
     "metadata": {},
     "output_type": "display_data"
    }
   ],
   "source": [
    "# ovrlt  超額註記碼 筆數\n",
    "x1=('N','Y')\n",
    "y1=(df_fraud[df_fraud.ovrlt=='N'].shape[0], #1501536\n",
    "    df_fraud[df_fraud.ovrlt=='Y'].shape[0] ) #20251\n",
    "plt.bar(x1,y1)\n",
    "plt.show()"
   ]
  },
  {
   "attachments": {},
   "cell_type": "markdown",
   "metadata": {},
   "source": [
    "### 盜刷中，消費城市為1"
   ]
  },
  {
   "cell_type": "code",
   "execution_count": 33,
   "metadata": {},
   "outputs": [
    {
     "data": {
      "image/png": "[encoded data removed]",
      "text/plain": [
       "<Figure size 640x480 with 1 Axes>"
      ]
     },
     "metadata": {},
     "output_type": "display_data"
    }
   ],
   "source": [
    "# scity 消費城市  筆數\n",
    "x1=(0,1,2,3,4)\n",
    "y1=(df_fraud[df_fraud.scity  ==0].shape[0], \n",
    "    df_fraud[df_fraud.scity  ==1].shape[0], \n",
    "   df_fraud[df_fraud.scity  ==2].shape[0], \n",
    "   df_fraud[df_fraud.scity  ==3].shape[0], \n",
    "   df_fraud[df_fraud.scity  ==4].shape[0],) \n",
    "plt.bar(x1,y1)\n",
    "plt.show()"
   ]
  },
  {
   "cell_type": "code",
   "execution_count": null,
   "metadata": {},
   "outputs": [],
   "source": []
  }
 ],
 "metadata": {
  "kernelspec": {
   "display_name": "Python 3",
   "language": "python",
   "name": "python3"
  },
  "language_info": {
   "codemirror_mode": {
    "name": "ipython",
    "version": 3
   },
   "file_extension": ".py",
   "mimetype": "text/x-python",
   "name": "python",
   "nbconvert_exporter": "python",
   "pygments_lexer": "ipython3",
   "version": "3.9.16"
  }
 },
 "nbformat": 4,
 "nbformat_minor": 2
}
