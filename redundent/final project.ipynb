{
 "cells": [
  {
   "cell_type": "code",
   "execution_count": 3,
   "id": "3bcb3932",
   "metadata": {},
   "outputs": [],
   "source": [
    "import pandas as pd\n",
    "import numpy as np\n",
    "import matplotlib.pyplot as plt\n",
    "import seaborn as sns\n",
    "from category_encoders.target_encoder import TargetEncoder\n",
    "from scipy.stats import norm , skew\n",
    "from  scipy import stats\n",
    "from scipy.special import boxcox\n",
    "import os \n",
    "import warnings\n",
    "warnings.filterwarnings('ignore')\n",
    "from sklearn.utils import resample\n",
    "from sklearn.model_selection import train_test_split\n",
    "from sklearn.linear_model import LogisticRegression\n",
    "from sklearn.tree import DecisionTreeClassifier\n",
    "from sklearn.svm import SVC\n",
    "from sklearn.metrics import make_scorer, precision_score, recall_score, classification_report, confusion_matrix\n",
    "from sklearn.metrics import fbeta_score, recall_score, precision_score, average_precision_score, precision_recall_curve\n",
    "from collections import Counter\n",
    "from sklearn.ensemble import RandomForestClassifier\n",
    "from imblearn.over_sampling import SMOTE ,ADASYN,BorderlineSMOTE\n",
    "from imblearn.under_sampling import NearMiss\n",
    "import seaborn as sns\n",
    "from collections import Counter\n",
    "from sklearn.metrics import make_scorer\n",
    "from time import time\n",
    "import lightgbm as light\n",
    "import catboost as cat\n",
    "import xgboost as xgb\n",
    "from imblearn.ensemble import BalancedRandomForestClassifier\n",
    "from imblearn.under_sampling import RandomUnderSampler "
   ]
  },
  {
   "cell_type": "code",
   "execution_count": 4,
   "id": "961f8494",
   "metadata": {},
   "outputs": [],
   "source": [
    "import numpy as np\n",
    "import pandas as pd\n",
    "from sklearn import preprocessing \n",
    "from sklearn.preprocessing import OneHotEncoder, LabelEncoder,StandardScaler\n",
    "import random\n",
    "import matplotlib.pyplot as plt\n",
    "import seaborn as sns\n",
    "%matplotlib inline\n",
    "pd.options.mode.chained_assignment = None\n",
    "import warnings\n",
    "from sklearn import model_selection\n",
    "from sklearn.model_selection import train_test_split,learning_curve,cross_val_score,KFold,TimeSeriesSplit,GridSearchCV\n",
    "from sklearn.utils import resample\n",
    "from sklearn.ensemble import (GradientBoostingClassifier, GradientBoostingRegressor, \n",
    "                              RandomForestClassifier, RandomForestRegressor,AdaBoostClassifier) \n",
    "from sklearn.naive_bayes import MultinomialNB\n",
    "from sklearn.naive_bayes import GaussianNB\n",
    "from sklearn.naive_bayes import BernoulliNB\n",
    "from sklearn.neural_network import MLPClassifier\n",
    "from sklearn.tree import DecisionTreeClassifier\n",
    "from sklearn.neighbors import KNeighborsClassifier\n",
    "from sklearn.linear_model import LogisticRegression\n",
    "from sklearn import tree\n",
    "from sklearn import metrics\n",
    "from imblearn.over_sampling import SMOTE\n",
    "import xgboost as xgb\n",
    "from xgboost import XGBClassifier\n",
    "from sklearn.svm import SVC\n",
    "import lightgbm as lgbm\n",
    "from sklearn.metrics import f1_score, confusion_matrix,roc_auc_score"
   ]
  },
  {
   "cell_type": "code",
   "execution_count": 6,
   "id": "7146ad44",
   "metadata": {},
   "outputs": [
    {
     "data": {
      "text/plain": [
       "'C:\\\\Users\\\\johnn\\\\玉山資料'"
      ]
     },
     "execution_count": 6,
     "metadata": {},
     "output_type": "execute_result"
    }
   ],
   "source": [
    "os.getcwd()"
   ]
  },
  {
   "cell_type": "markdown",
   "id": "26f0c82f",
   "metadata": {},
   "source": [
    "### import data"
   ]
  },
  {
   "cell_type": "code",
   "execution_count": 40,
   "id": "51bed809",
   "metadata": {},
   "outputs": [],
   "source": [
    "train = pd.read_csv('./train.csv')\n",
    "test = pd.read_csv('./test.csv')\n",
    "submit = pd.read_csv('./submission_test.csv')"
   ]
  },
  {
   "cell_type": "markdown",
   "id": "da6df011",
   "metadata": {},
   "source": [
    "### solve the index"
   ]
  },
  {
   "cell_type": "code",
   "execution_count": 41,
   "id": "04436fbc",
   "metadata": {},
   "outputs": [],
   "source": [
    "train_index = pd.DataFrame(train['txkey'])\n",
    "test_index = pd.DataFrame(test['txkey'])"
   ]
  },
  {
   "cell_type": "markdown",
   "id": "9dd6b2a5",
   "metadata": {},
   "source": [
    "### concat train test into data all"
   ]
  },
  {
   "cell_type": "code",
   "execution_count": 42,
   "id": "adf4700f",
   "metadata": {},
   "outputs": [],
   "source": [
    "data = pd.concat([train,test],axis=0,sort=False)"
   ]
  },
  {
   "cell_type": "markdown",
   "id": "5377b79c",
   "metadata": {},
   "source": [
    "# preprocessing"
   ]
  },
  {
   "cell_type": "markdown",
   "id": "33645709",
   "metadata": {},
   "source": [
    "### fillna"
   ]
  },
  {
   "cell_type": "code",
   "execution_count": 43,
   "id": "501a938a",
   "metadata": {},
   "outputs": [],
   "source": [
    "data['flbmk'].fillna('N', inplace=True)\n",
    "data['flg_3dsmk'].fillna('N', inplace=True)"
   ]
  },
  {
   "cell_type": "markdown",
   "id": "a2c0d2da",
   "metadata": {},
   "source": [
    "### cross feature"
   ]
  },
  {
   "cell_type": "code",
   "execution_count": 44,
   "id": "dc97861a",
   "metadata": {},
   "outputs": [],
   "source": [
    "data['ecfg_stocn'] = data['ecfg'] + data['stocn'].astype('str')\n",
    "data['ecfg_scity'] = data['ecfg'] + data['scity'].astype('str')\n",
    "\n",
    "data['ovrlt_stocn'] = data['ovrlt'] + data['stocn'].astype('str')\n",
    "data['ovrlt_scity'] = data['ovrlt'] + data['stocn'].astype('str')"
   ]
  },
  {
   "cell_type": "markdown",
   "id": "adcf44a6",
   "metadata": {},
   "source": [
    "### category to num"
   ]
  },
  {
   "cell_type": "code",
   "execution_count": 45,
   "id": "f16681fa",
   "metadata": {},
   "outputs": [],
   "source": [
    "data['ecfg'] = data['ecfg'].astype('category').cat.codes\n",
    "data['flbmk'] = data['flbmk'].astype('category').cat.codes\n",
    "data['flg_3dsmk'] = data['flg_3dsmk'].astype('category').cat.codes\n",
    "data['insfg'] = data['insfg'].astype('category').cat.codes\n",
    "data['ovrlt'] = data['ovrlt'].astype('category').cat.codes\n",
    "# #數值\n",
    "data['acqic'] = data['acqic'].astype('category').cat.codes\n",
    "data['bacno'] = data['bacno'].astype('category').cat.codes\n",
    "data['cano'] = data['cano'].astype('category').cat.codes\n",
    "data['csmcu'] = data['csmcu'].astype('category').cat.codes\n",
    "data['hcefg'] = data['hcefg'].astype('category').cat.codes\n",
    "data['mcc'] = data['mcc'].astype('category').cat.codes\n",
    "data['mchno'] = data['mchno'].astype('category').cat.codes\n",
    "data['scity'] = data['scity'].astype('category').cat.codes\n",
    "data['stocn'] = data['stocn'].astype('category').cat.codes"
   ]
  },
  {
   "cell_type": "code",
   "execution_count": 46,
   "id": "2fed0035",
   "metadata": {},
   "outputs": [],
   "source": [
    "data['ecfg'] = data['ecfg'].astype('category').cat.codes"
   ]
  },
  {
   "cell_type": "code",
   "execution_count": 47,
   "id": "14e4551e",
   "metadata": {},
   "outputs": [
    {
     "data": {
      "text/plain": [
       "0         0\n",
       "1         0\n",
       "2         0\n",
       "3         0\n",
       "4         0\n",
       "         ..\n",
       "421660    0\n",
       "421661    0\n",
       "421662    0\n",
       "421663    0\n",
       "421664    0\n",
       "Name: ecfg, Length: 1943452, dtype: int8"
      ]
     },
     "execution_count": 47,
     "metadata": {},
     "output_type": "execute_result"
    }
   ],
   "source": [
    "data['ecfg']"
   ]
  },
  {
   "cell_type": "markdown",
   "id": "e552ec8d",
   "metadata": {},
   "source": [
    "### loctm data"
   ]
  },
  {
   "cell_type": "code",
   "execution_count": 49,
   "id": "5e6da531",
   "metadata": {},
   "outputs": [],
   "source": [
    "data['loctm_int'] = data['loctm'].astype(int)\n",
    "data['loctm_str'] = data['loctm_int'].astype(str)\n",
    "data['loctm_str'] = data['loctm_str'].apply(lambda x : '0'+x if (len(x)==5) else ('00'+x if (len(x)==4) else ('000'+x if (len(x)==3) else ('0000'+x if (len(x)==2) else ('00000'+x if (len(x)==1) else x)))))\n",
    "data['hours'] = data['loctm_str'].str[0:2]\n",
    "data['minutes'] = data['loctm_str'].str[2:4]\n",
    "data['seconds'] = data['loctm_str'].str[4:6]\n",
    "data['hours'] = data['hours'].astype(int)\n",
    "data['minutes'] = data['minutes'].astype(int)\n",
    "data['seconds'] = data['seconds'].astype(int)\n",
    "data['total_seconds'] = data['locdt']*86400+data['hours']*3600+data['minutes']*60+data['seconds']\n",
    "data['time'] = (data['hours']*3600+data['minutes']*60+data['seconds'])#/86400\n",
    "\n",
    "data['trad_hour'] = data['loctm'] // 10000\n",
    "\n",
    "data['morning'] = ((data['trad_hour'] < 12) & (data['trad_hour'] >=6)).replace([True,False],[1,0])\n",
    "data['afternoon'] = ((data['trad_hour'] < 18) & (data['trad_hour'] >=12)).replace([True,False],[1,0])\n",
    "data['night'] = ((data['trad_hour'] < 24) & (data['trad_hour'] >=18)).replace([True,False],[1,0])\n",
    "data['midnight'] = ((data['trad_hour'] < 6) & (data['trad_hour'] >=0)).replace([True,False],[1,0])"
   ]
  },
  {
   "cell_type": "markdown",
   "id": "5495c145",
   "metadata": {},
   "source": [
    "### account data"
   ]
  },
  {
   "cell_type": "code",
   "execution_count": 50,
   "id": "7780cb5d",
   "metadata": {},
   "outputs": [],
   "source": [
    "transation_count = data.groupby(['bacno'])['cano'].count().rename(\"transation_count\").reset_index()\n",
    "data = data.merge(transation_count,how='left')\n",
    "\n",
    "transation_count_cano = data.groupby(['bacno','cano'])['cano'].count().rename(\"transation_count_cano\").reset_index()\n",
    "data = data.merge(transation_count_cano,how='left')\n",
    "\n",
    "acqic_duplicated_count = data.groupby(['bacno','acqic'])['acqic'].count().rename(\"acqic_duplicated_count\").reset_index()\n",
    "data = data.merge(acqic_duplicated_count,how='left')\n",
    "\n",
    "conam_duplicated_count = data.groupby(['bacno','conam'])['conam'].count().rename(\"conam_duplicated_count\").reset_index()\n",
    "data = data.merge(conam_duplicated_count,how='left')\n",
    "\n",
    "conam_stocn = data.groupby(['csmcu','stocn'])['stocn'].count().rename(\"conam_stocn\").reset_index()\n",
    "data = data.merge(conam_stocn, on=['csmcu', 'stocn'])\n",
    "\n",
    "bacno_mchno = data.groupby(['bacno','mchno'])['mchno'].count().rename(\"bacno_mchno\").reset_index()\n",
    "data = data.merge(bacno_mchno, on=['bacno', 'mchno'])\n",
    "\n",
    "cano_mchno = data.groupby(['cano','mchno'])['mchno'].count().rename(\"cano_mchno\").reset_index()\n",
    "data = data.merge(cano_mchno, on=['cano', 'mchno'])\n",
    "\n",
    "bacno_stocn = data.groupby(['bacno','stocn'])['stocn'].count().rename(\"bacno_stocn\").reset_index()\n",
    "data = data.merge(bacno_stocn, on=['bacno', 'stocn'])\n",
    "\n",
    "cano_stocn = data.groupby(['cano','stocn'])['stocn'].count().rename(\"cano_stocn\").reset_index()\n",
    "data = data.merge(cano_stocn, on=['cano', 'stocn'])\n",
    "\n",
    "bacno_scity = data.groupby(['bacno','scity'])['scity'].count().rename(\"bacno_scity\").reset_index()\n",
    "data = data.merge(bacno_scity, on=['bacno', 'scity'])\n",
    "\n",
    "cano_scity = data.groupby(['cano','scity'])['scity'].count().rename(\"cano_scity\").reset_index()\n",
    "data = data.merge(cano_scity, on=['cano', 'scity'])\n",
    "\n",
    "\n",
    "bacno_flg_3dsmk = data.groupby(['bacno','flg_3dsmk'])['flg_3dsmk'].count().rename(\"bacno_flg_3dsmk\").reset_index()\n",
    "data = data.merge(bacno_flg_3dsmk, on=['bacno', 'flg_3dsmk'])\n",
    "\n",
    "cano_flg_3dsmk = data.groupby(['cano','flg_3dsmk'])['flg_3dsmk'].count().rename(\"cano_flg_3dsmk\").reset_index()\n",
    "data = data.merge(cano_flg_3dsmk, on=['cano', 'flg_3dsmk'])\n",
    "\n",
    "\n",
    "bacno_ecfg_mean = data.groupby(['bacno'])['ecfg'].mean().rename(\"bacno_ecfg_mean\").reset_index()\n",
    "data = data.merge(bacno_ecfg_mean, on=['bacno'])\n",
    "\n",
    "cano_ecfg_mean = data.groupby(['cano'])['ecfg'].mean().rename(\"cano_ecfg_mean\").reset_index()\n",
    "data = data.merge(cano_ecfg_mean, on=['cano'])\n",
    "\n",
    "grp = data.groupby(['bacno'])['conam'].min().rename(\"comsum_min\").reset_index()\n",
    "data = data.merge(grp,how='left')\n",
    "\n",
    "grp = data.groupby(['bacno'])['conam'].max().rename('comsum_max').reset_index()\n",
    "data = data.merge(grp,how='left')\n",
    "\n",
    "grp = (data.groupby(['bacno'])['txkey'].count() / data['locdt'].max()).reset_index().rename(columns={'txkey':'acc_trad_ave'})\n",
    "data = data.merge(grp,how='left')\n",
    "\n",
    "grp = data.groupby(['bacno'])['txkey'].count().reset_index().rename(columns={'txkey':'acc_trad_total'})\n",
    "data = data.merge(grp,how='left')\n",
    "\n",
    "grp = data.groupby(['bacno'])['conam'].sum().reset_index().rename(columns={'conam':'comsum_total'})\n",
    "data = data.merge(grp,how='left')\n",
    "\n",
    "grp = data.groupby(['bacno'])['conam'].mean().reset_index().rename(columns={'conam':'comsum_ave'})\n",
    "data = data.merge(grp,how='left')\n",
    "\n",
    "mean_amount = data.groupby(['bacno'])['conam'].mean().rename(\"mean_amount\").reset_index()\n",
    "data = data.merge(mean_amount,how='left')\n",
    "\n",
    "data['amtby_mean_amount'] = data['conam'] / data['mean_amount']\n",
    "data['amtby_mean_amount'] = data['amtby_mean_amount'].fillna(0)\n",
    "\n",
    "mean_amount_cano = data.groupby(['bacno','cano'])['conam'].mean().rename(\"mean_amount_cano\").reset_index()\n",
    "data = data.merge(mean_amount_cano,how='left')\n",
    "\n",
    "data['amtby_mean_amount_cano'] = data['conam'] / data['mean_amount_cano']\n",
    "data['amtby_mean_amount_cano'] = data['amtby_mean_amount_cano'].fillna(0)\n",
    "\n",
    "\n",
    "median_amount = data.groupby(['bacno'])['conam'].median().rename(\"median_amount\").reset_index()\n",
    "data = data.merge(median_amount,how='left')\n",
    "\n",
    "data['amtby_median_amount'] = data['conam'] / data['median_amount']\n",
    "data['amtby_median_amount'] = data['amtby_median_amount'].fillna(0)\n",
    "\n",
    "median_amount_cano = data.groupby(['bacno','cano'])['conam'].median().rename(\"median_amount_cano\").reset_index()\n",
    "data = data.merge(median_amount_cano,how='left')\n",
    "\n",
    "data['amtby_median_amount_cano'] = data['conam'] / data['median_amount_cano']\n",
    "data['amtby_median_amount_cano'] = data['amtby_median_amount_cano'].fillna(0)\n",
    "\n",
    "std_amount = data.groupby(['bacno'])['conam'].std().rename(\"std_amount\").reset_index()\n",
    "data = data.merge(std_amount,how='left')"
   ]
  },
  {
   "cell_type": "markdown",
   "id": "a8dbaaf2",
   "metadata": {},
   "source": [
    "### time series"
   ]
  },
  {
   "cell_type": "code",
   "execution_count": 51,
   "id": "31bb5585",
   "metadata": {},
   "outputs": [],
   "source": [
    "day30 = data[data['locdt'] <= 30]\n",
    "grp = (day30.groupby(['bacno'])['txkey'].count() / 30).reset_index().rename(columns={'txkey':'comsum_feq30'})\n",
    "data = data.merge(grp,how='left')\n",
    "data['comsum_feq30'].fillna(0,inplace=True)\n",
    "\n",
    "day30 = data[(data['locdt'] <= 60) & (data['locdt'] >30 ) ]\n",
    "grp = (day30.groupby(['bacno'])['txkey'].count() / 30).reset_index().rename(columns={'txkey':'comsum_feq3060'})\n",
    "data = data.merge(grp,how='left')\n",
    "data['comsum_feq3060'].fillna(0,inplace=True)\n",
    "\n",
    "day30 = data[(data['locdt'] <= 90) & (data['locdt'] >60 ) ]\n",
    "grp = (day30.groupby(['bacno'])['txkey'].count() / 30).reset_index().rename(columns={'txkey':'comsum_feq6090'})\n",
    "data = data.merge(grp,how='left')\n",
    "data['comsum_feq6090'].fillna(0,inplace=True)\n",
    "\n",
    "day30 = data[(data['locdt'] <= 120) & (data['locdt'] >90 ) ]\n",
    "grp = (day30.groupby(['bacno'])['txkey'].count() / 30).reset_index().rename(columns={'txkey':'comsum_feq90120'})\n",
    "data = data.merge(grp,how='left')\n",
    "data['comsum_feq90120'].fillna(0,inplace=True)\n",
    "\n",
    "day60 = data[data['locdt'] <= 60]\n",
    "grp = (day60.groupby(['bacno'])['txkey'].count() / 60).reset_index().rename(columns={'txkey':'comsum_feq60'})\n",
    "data = data.merge(grp,how='left')\n",
    "data['comsum_feq60'].fillna(0,inplace=True)\n",
    "\n",
    "day60 = data[(data['locdt'] <= 90) & (data['locdt'] >30 ) ]\n",
    "grp = (day60.groupby(['bacno'])['txkey'].count() / 60).reset_index().rename(columns={'txkey':'comsum_feq3090'})\n",
    "data = data.merge(grp,how='left')\n",
    "data['comsum_feq3090'].fillna(0,inplace=True)\n",
    "\n",
    "day60 = data[(data['locdt'] <= 120) & (data['locdt'] >60 ) ]\n",
    "grp = (day60.groupby(['bacno'])['txkey'].count() / 60).reset_index().rename(columns={'txkey':'comsum_feq60120'})\n",
    "data = data.merge(grp,how='left')\n",
    "data['comsum_feq60120'].fillna(0,inplace=True)\n",
    "\n",
    "grp = data.groupby(['locdt'])['bacno'].count().reset_index().rename(columns={'bacno':'day_trad_num'})\n",
    "data = data.merge(grp,how='left')\n",
    "\n",
    "grp = data.groupby(['locdt'])['conam'].sum().reset_index().rename(columns={'conam':'day_comsum_total'})\n",
    "data = data.merge(grp,how='left')\n",
    "\n",
    "\n",
    "frequency = ((data.groupby(['bacno'])['locdt'].max()-data.groupby(['bacno'])['locdt'].min())/data.groupby(['bacno'])['locdt'].count()).rename(\"frequency\").reset_index()\n",
    "data = data.merge(frequency,how='left')\n",
    "\n",
    "frequency_cano = ((data.groupby(['bacno','cano'])['locdt'].max()-data.groupby(['bacno','cano'])['locdt'].min())/data.groupby(['bacno','cano'])['locdt'].count()).rename(\"frequency_cano\").reset_index()\n",
    "data = data.merge(frequency_cano,how='left')\n",
    "\n",
    "mean_time = data.groupby(['bacno'])['time'].mean().rename(\"mean_time\").reset_index()\n",
    "data = data.merge(mean_time,how='left')\n",
    "\n",
    "median_time = data.groupby(['bacno'])['time'].median().rename(\"median_time\").reset_index()\n",
    "data = data.merge(median_time,how='left')\n",
    "\n",
    "\n",
    "mean_time_cano = data.groupby(['bacno','cano'])['time'].mean().rename(\"mean_time_cano\").reset_index()\n",
    "data = data.merge(mean_time_cano,how='left')\n",
    "\n",
    "median_time_cano = data.groupby(['bacno','cano'])['time'].median().rename(\"median_time_cano\").reset_index()\n",
    "data = data.merge(median_time_cano,how='left')\n",
    "\n",
    "data = data.sort_values(by = ['total_seconds'])\n",
    "data['total_seconds_diff'] = data.groupby(['bacno'])['total_seconds'].diff()\n",
    "data['total_seconds_diff'] = data['total_seconds_diff'].fillna(0)\n",
    "\n",
    "data = data.sort_values(by = ['total_seconds'])\n",
    "data['total_seconds_diff_cano'] = data.groupby(['bacno','cano'])['total_seconds'].diff()\n",
    "data['total_seconds_diff_cano'] = data['total_seconds_diff_cano'].fillna(0)\n",
    "\n",
    "\n",
    "data['date_day'] = data['locdt'] % 30\n",
    "\n",
    "data['week'] = data['locdt'] % 7\n",
    "\n",
    "data['2_week'] = data['locdt'] % 14\n",
    "\n",
    "data['month'] = data['locdt'] % 30"
   ]
  },
  {
   "cell_type": "markdown",
   "id": "8edb9959",
   "metadata": {},
   "source": [
    "### country data"
   ]
  },
  {
   "cell_type": "code",
   "execution_count": 52,
   "id": "c83354df",
   "metadata": {},
   "outputs": [],
   "source": [
    "data['is_taiwan'] = (data['stocn'] == 102).replace([True,False],[1,0])\n",
    "\n",
    "grp = data.groupby(['stocn'])['txkey'].count().reset_index().rename(columns={'txkey':'country_com_num'})\n",
    "data = data.merge(grp,how='left')\n",
    "\n",
    "grp = data.groupby(['scity'])['txkey'].count().reset_index().rename(columns={'txkey':'city_com_num'})\n",
    "data = data.merge(grp,how='left')"
   ]
  },
  {
   "cell_type": "markdown",
   "id": "f9549160",
   "metadata": {},
   "source": [
    "### target encoding"
   ]
  },
  {
   "cell_type": "code",
   "execution_count": 92,
   "id": "f2c3dd6f",
   "metadata": {},
   "outputs": [],
   "source": [
    "object_list = []\n",
    "for col in data.columns.tolist():\n",
    "    if data[col].dtype == 'object':\n",
    "        object_list.append(col)\n",
    "        \n",
    "nd_tar_list = []\n",
    "for col in object_list:\n",
    "\n",
    "    if len(data[col].unique()) < 5:\n",
    "        nd_ont_list.append(col)\n",
    "    else:\n",
    "        nd_tar_list.append(col)"
   ]
  },
  {
   "cell_type": "code",
   "execution_count": 94,
   "id": "02c030d1",
   "metadata": {},
   "outputs": [
    {
     "data": {
      "text/plain": [
       "['ecfg_stocn', 'ecfg_scity', 'ovrlt_stocn', 'ovrlt_scity', 'loctm_str']"
      ]
     },
     "execution_count": 94,
     "metadata": {},
     "output_type": "execute_result"
    }
   ],
   "source": [
    "object_list"
   ]
  },
  {
   "cell_type": "code",
   "execution_count": 54,
   "id": "b6b67c04",
   "metadata": {},
   "outputs": [],
   "source": [
    "train = data.merge(train_index)\n",
    "test = data.merge(test_index)"
   ]
  },
  {
   "cell_type": "code",
   "execution_count": 55,
   "id": "bc7e2c0c",
   "metadata": {},
   "outputs": [],
   "source": [
    "train_tar = train[train['locdt'] > 30]\n",
    "\n",
    "tar = TargetEncoder(smoothing=0.9).fit(train_tar[nd_tar_list],train_tar['fraud_ind'])\n",
    "test[nd_tar_list] = tar.transform(test[nd_tar_list])\n",
    "train[nd_tar_list] = tar.transform(train[nd_tar_list])"
   ]
  },
  {
   "cell_type": "markdown",
   "id": "17f59606",
   "metadata": {},
   "source": [
    "### check train test shape"
   ]
  },
  {
   "cell_type": "code",
   "execution_count": 56,
   "id": "d173385f",
   "metadata": {},
   "outputs": [
    {
     "name": "stdout",
     "output_type": "stream",
     "text": [
      "(1521787, 93) (421665, 92)\n"
     ]
    }
   ],
   "source": [
    "test.drop('fraud_ind',axis=1,inplace=True)\n",
    "print(train.shape,test.shape)"
   ]
  },
  {
   "cell_type": "markdown",
   "id": "6714589a",
   "metadata": {},
   "source": [
    "### build model (lightgbm)"
   ]
  },
  {
   "cell_type": "code",
   "execution_count": 57,
   "id": "cafd2ed0",
   "metadata": {},
   "outputs": [],
   "source": [
    "lig_model = light.LGBMClassifier(\n",
    "    n_estimators=700,reg_alpha=0.3,num_leaves=200,learning_rate=0.1,reg_lambda=0.5,subsample=0.7,is_unbalance=True)"
   ]
  },
  {
   "cell_type": "code",
   "execution_count": 58,
   "id": "91801263",
   "metadata": {},
   "outputs": [],
   "source": [
    "X_train , X_valid , y_train ,y_valid = train_test_split(\n",
    "    train.drop(['cano','bacno','fraud_ind','txkey'],axis=1),train['fraud_ind'],test_size=0.25,random_state =1102)"
   ]
  },
  {
   "cell_type": "code",
   "execution_count": 81,
   "id": "7f70b8c2",
   "metadata": {},
   "outputs": [],
   "source": [
    "def cus_f1(ytru, ypre):\n",
    "    threshold = 0.5\n",
    "    y_pre = list(map(lambda item:int(item>threshold),ypre))\n",
    "    f1 = f1_score(ytru, y_pre, average='macro')\n",
    "    return 'f1', f1, True"
   ]
  },
  {
   "cell_type": "code",
   "execution_count": 82,
   "id": "732b52b9",
   "metadata": {},
   "outputs": [
    {
     "name": "stdout",
     "output_type": "stream",
     "text": [
      "[1]\ttraining's binary_logloss: 0.0834554\ttraining's f1: 0.738217\tvalid_1's binary_logloss: 0.0854415\tvalid_1's f1: 0.730862\n",
      "[2]\ttraining's binary_logloss: 0.0794888\ttraining's f1: 0.739484\tvalid_1's binary_logloss: 0.081908\tvalid_1's f1: 0.731541\n",
      "[3]\ttraining's binary_logloss: 0.0747238\ttraining's f1: 0.741275\tvalid_1's binary_logloss: 0.0775116\tvalid_1's f1: 0.733513\n",
      "[4]\ttraining's binary_logloss: 0.0708456\ttraining's f1: 0.743281\tvalid_1's binary_logloss: 0.0738734\tvalid_1's f1: 0.735136\n",
      "[5]\ttraining's binary_logloss: 0.0672539\ttraining's f1: 0.745492\tvalid_1's binary_logloss: 0.0704401\tvalid_1's f1: 0.737124\n",
      "[6]\ttraining's binary_logloss: 0.0643663\ttraining's f1: 0.748194\tvalid_1's binary_logloss: 0.0676192\tvalid_1's f1: 0.739807\n",
      "[7]\ttraining's binary_logloss: 0.0616472\ttraining's f1: 0.751683\tvalid_1's binary_logloss: 0.0650308\tvalid_1's f1: 0.742784\n",
      "[8]\ttraining's binary_logloss: 0.0589693\ttraining's f1: 0.756155\tvalid_1's binary_logloss: 0.0625829\tvalid_1's f1: 0.746956\n",
      "[9]\ttraining's binary_logloss: 0.056806\ttraining's f1: 0.759756\tvalid_1's binary_logloss: 0.0605201\tvalid_1's f1: 0.75018\n",
      "[10]\ttraining's binary_logloss: 0.0545153\ttraining's f1: 0.764057\tvalid_1's binary_logloss: 0.0583379\tvalid_1's f1: 0.753387\n",
      "[11]\ttraining's binary_logloss: 0.0525229\ttraining's f1: 0.76826\tvalid_1's binary_logloss: 0.0564267\tvalid_1's f1: 0.756693\n",
      "[12]\ttraining's binary_logloss: 0.050648\ttraining's f1: 0.772101\tvalid_1's binary_logloss: 0.0546989\tvalid_1's f1: 0.759591\n",
      "[13]\ttraining's binary_logloss: 0.0488207\ttraining's f1: 0.776787\tvalid_1's binary_logloss: 0.0529398\tvalid_1's f1: 0.76384\n",
      "[14]\ttraining's binary_logloss: 0.0472723\ttraining's f1: 0.781096\tvalid_1's binary_logloss: 0.0514243\tvalid_1's f1: 0.768168\n",
      "[15]\ttraining's binary_logloss: 0.0458054\ttraining's f1: 0.785672\tvalid_1's binary_logloss: 0.0500084\tvalid_1's f1: 0.772213\n",
      "[16]\ttraining's binary_logloss: 0.0443377\ttraining's f1: 0.79059\tvalid_1's binary_logloss: 0.0486412\tvalid_1's f1: 0.776466\n",
      "[17]\ttraining's binary_logloss: 0.0429674\ttraining's f1: 0.79491\tvalid_1's binary_logloss: 0.0473187\tvalid_1's f1: 0.780113\n",
      "[18]\ttraining's binary_logloss: 0.041562\ttraining's f1: 0.800045\tvalid_1's binary_logloss: 0.0459549\tvalid_1's f1: 0.784372\n",
      "[19]\ttraining's binary_logloss: 0.0404211\ttraining's f1: 0.804737\tvalid_1's binary_logloss: 0.0448489\tvalid_1's f1: 0.788664\n",
      "[20]\ttraining's binary_logloss: 0.0392003\ttraining's f1: 0.809467\tvalid_1's binary_logloss: 0.0436956\tvalid_1's f1: 0.792692\n",
      "[21]\ttraining's binary_logloss: 0.0381219\ttraining's f1: 0.8136\tvalid_1's binary_logloss: 0.0426972\tvalid_1's f1: 0.796725\n",
      "[22]\ttraining's binary_logloss: 0.0371182\ttraining's f1: 0.817354\tvalid_1's binary_logloss: 0.041804\tvalid_1's f1: 0.800392\n",
      "[23]\ttraining's binary_logloss: 0.036203\ttraining's f1: 0.820869\tvalid_1's binary_logloss: 0.0409571\tvalid_1's f1: 0.803876\n",
      "[24]\ttraining's binary_logloss: 0.0351486\ttraining's f1: 0.825199\tvalid_1's binary_logloss: 0.0399386\tvalid_1's f1: 0.807688\n",
      "[25]\ttraining's binary_logloss: 0.0341512\ttraining's f1: 0.82872\tvalid_1's binary_logloss: 0.0390282\tvalid_1's f1: 0.810336\n",
      "[26]\ttraining's binary_logloss: 0.033088\ttraining's f1: 0.832654\tvalid_1's binary_logloss: 0.0379959\tvalid_1's f1: 0.813611\n",
      "[27]\ttraining's binary_logloss: 0.0322804\ttraining's f1: 0.83604\tvalid_1's binary_logloss: 0.0372711\tvalid_1's f1: 0.817204\n",
      "[28]\ttraining's binary_logloss: 0.0312803\ttraining's f1: 0.839553\tvalid_1's binary_logloss: 0.0364103\tvalid_1's f1: 0.820149\n",
      "[29]\ttraining's binary_logloss: 0.0305064\ttraining's f1: 0.842612\tvalid_1's binary_logloss: 0.0356765\tvalid_1's f1: 0.823913\n",
      "[30]\ttraining's binary_logloss: 0.0297965\ttraining's f1: 0.845978\tvalid_1's binary_logloss: 0.0350728\tvalid_1's f1: 0.826329\n",
      "[31]\ttraining's binary_logloss: 0.0290485\ttraining's f1: 0.849188\tvalid_1's binary_logloss: 0.0344372\tvalid_1's f1: 0.829247\n",
      "[32]\ttraining's binary_logloss: 0.0282783\ttraining's f1: 0.852091\tvalid_1's binary_logloss: 0.0337301\tvalid_1's f1: 0.831788\n",
      "[33]\ttraining's binary_logloss: 0.027604\ttraining's f1: 0.854783\tvalid_1's binary_logloss: 0.0331\tvalid_1's f1: 0.833986\n",
      "[34]\ttraining's binary_logloss: 0.0268822\ttraining's f1: 0.857679\tvalid_1's binary_logloss: 0.0324773\tvalid_1's f1: 0.836356\n",
      "[35]\ttraining's binary_logloss: 0.0262516\ttraining's f1: 0.860567\tvalid_1's binary_logloss: 0.0318983\tvalid_1's f1: 0.838853\n",
      "[36]\ttraining's binary_logloss: 0.0254429\ttraining's f1: 0.863939\tvalid_1's binary_logloss: 0.0311106\tvalid_1's f1: 0.841486\n",
      "[37]\ttraining's binary_logloss: 0.0248022\ttraining's f1: 0.86623\tvalid_1's binary_logloss: 0.0305506\tvalid_1's f1: 0.842808\n",
      "[38]\ttraining's binary_logloss: 0.0242536\ttraining's f1: 0.868668\tvalid_1's binary_logloss: 0.0300502\tvalid_1's f1: 0.845199\n",
      "[39]\ttraining's binary_logloss: 0.0237119\ttraining's f1: 0.870634\tvalid_1's binary_logloss: 0.0295759\tvalid_1's f1: 0.846663\n",
      "[40]\ttraining's binary_logloss: 0.0230789\ttraining's f1: 0.873496\tvalid_1's binary_logloss: 0.0290016\tvalid_1's f1: 0.848885\n",
      "[41]\ttraining's binary_logloss: 0.0225506\ttraining's f1: 0.87551\tvalid_1's binary_logloss: 0.0285445\tvalid_1's f1: 0.850473\n",
      "[42]\ttraining's binary_logloss: 0.0220277\ttraining's f1: 0.877623\tvalid_1's binary_logloss: 0.0280709\tvalid_1's f1: 0.852534\n",
      "[43]\ttraining's binary_logloss: 0.0214895\ttraining's f1: 0.879923\tvalid_1's binary_logloss: 0.0275784\tvalid_1's f1: 0.855373\n",
      "[44]\ttraining's binary_logloss: 0.0210407\ttraining's f1: 0.881708\tvalid_1's binary_logloss: 0.0271851\tvalid_1's f1: 0.856738\n",
      "[45]\ttraining's binary_logloss: 0.0205549\ttraining's f1: 0.883937\tvalid_1's binary_logloss: 0.0267265\tvalid_1's f1: 0.858768\n",
      "[46]\ttraining's binary_logloss: 0.0201048\ttraining's f1: 0.88604\tvalid_1's binary_logloss: 0.0263336\tvalid_1's f1: 0.859958\n",
      "[47]\ttraining's binary_logloss: 0.019659\ttraining's f1: 0.888195\tvalid_1's binary_logloss: 0.0259086\tvalid_1's f1: 0.861339\n",
      "[48]\ttraining's binary_logloss: 0.0191979\ttraining's f1: 0.890024\tvalid_1's binary_logloss: 0.0255216\tvalid_1's f1: 0.862997\n",
      "[49]\ttraining's binary_logloss: 0.0187555\ttraining's f1: 0.892015\tvalid_1's binary_logloss: 0.025116\tvalid_1's f1: 0.864613\n",
      "[50]\ttraining's binary_logloss: 0.0183437\ttraining's f1: 0.893721\tvalid_1's binary_logloss: 0.0247635\tvalid_1's f1: 0.866116\n",
      "[51]\ttraining's binary_logloss: 0.0179456\ttraining's f1: 0.895758\tvalid_1's binary_logloss: 0.0244144\tvalid_1's f1: 0.867933\n",
      "[52]\ttraining's binary_logloss: 0.0175504\ttraining's f1: 0.897262\tvalid_1's binary_logloss: 0.0240732\tvalid_1's f1: 0.869007\n",
      "[53]\ttraining's binary_logloss: 0.0171633\ttraining's f1: 0.899056\tvalid_1's binary_logloss: 0.0237324\tvalid_1's f1: 0.870186\n",
      "[54]\ttraining's binary_logloss: 0.0167958\ttraining's f1: 0.9012\tvalid_1's binary_logloss: 0.0233991\tvalid_1's f1: 0.871549\n",
      "[55]\ttraining's binary_logloss: 0.0164496\ttraining's f1: 0.902624\tvalid_1's binary_logloss: 0.0231063\tvalid_1's f1: 0.872994\n",
      "[56]\ttraining's binary_logloss: 0.0161164\ttraining's f1: 0.904519\tvalid_1's binary_logloss: 0.02281\tvalid_1's f1: 0.874278\n",
      "[57]\ttraining's binary_logloss: 0.0157829\ttraining's f1: 0.90611\tvalid_1's binary_logloss: 0.0225119\tvalid_1's f1: 0.875952\n",
      "[58]\ttraining's binary_logloss: 0.0154557\ttraining's f1: 0.907869\tvalid_1's binary_logloss: 0.0222261\tvalid_1's f1: 0.877092\n",
      "[59]\ttraining's binary_logloss: 0.0151466\ttraining's f1: 0.909338\tvalid_1's binary_logloss: 0.0219607\tvalid_1's f1: 0.878057\n",
      "[60]\ttraining's binary_logloss: 0.0148604\ttraining's f1: 0.910727\tvalid_1's binary_logloss: 0.021708\tvalid_1's f1: 0.87923\n",
      "[61]\ttraining's binary_logloss: 0.0145659\ttraining's f1: 0.912216\tvalid_1's binary_logloss: 0.0214595\tvalid_1's f1: 0.880612\n",
      "[62]\ttraining's binary_logloss: 0.0142895\ttraining's f1: 0.913911\tvalid_1's binary_logloss: 0.021228\tvalid_1's f1: 0.882054\n",
      "[63]\ttraining's binary_logloss: 0.0140168\ttraining's f1: 0.915295\tvalid_1's binary_logloss: 0.0209769\tvalid_1's f1: 0.883225\n",
      "[64]\ttraining's binary_logloss: 0.0137539\ttraining's f1: 0.916618\tvalid_1's binary_logloss: 0.0207773\tvalid_1's f1: 0.883849\n",
      "[65]\ttraining's binary_logloss: 0.0135082\ttraining's f1: 0.917985\tvalid_1's binary_logloss: 0.0206032\tvalid_1's f1: 0.884574\n",
      "[66]\ttraining's binary_logloss: 0.0132408\ttraining's f1: 0.919537\tvalid_1's binary_logloss: 0.020372\tvalid_1's f1: 0.886303\n"
     ]
    },
    {
     "name": "stdout",
     "output_type": "stream",
     "text": [
      "[67]\ttraining's binary_logloss: 0.0129868\ttraining's f1: 0.920815\tvalid_1's binary_logloss: 0.0201452\tvalid_1's f1: 0.887722\n",
      "[68]\ttraining's binary_logloss: 0.0127405\ttraining's f1: 0.922052\tvalid_1's binary_logloss: 0.0199442\tvalid_1's f1: 0.889317\n",
      "[69]\ttraining's binary_logloss: 0.0125073\ttraining's f1: 0.923237\tvalid_1's binary_logloss: 0.0197369\tvalid_1's f1: 0.889839\n",
      "[70]\ttraining's binary_logloss: 0.0122645\ttraining's f1: 0.924791\tvalid_1's binary_logloss: 0.0195411\tvalid_1's f1: 0.890797\n",
      "[71]\ttraining's binary_logloss: 0.01205\ttraining's f1: 0.925541\tvalid_1's binary_logloss: 0.0193864\tvalid_1's f1: 0.89163\n",
      "[72]\ttraining's binary_logloss: 0.0118238\ttraining's f1: 0.927233\tvalid_1's binary_logloss: 0.019195\tvalid_1's f1: 0.892596\n",
      "[73]\ttraining's binary_logloss: 0.0116214\ttraining's f1: 0.928213\tvalid_1's binary_logloss: 0.0190456\tvalid_1's f1: 0.893321\n",
      "[74]\ttraining's binary_logloss: 0.0114233\ttraining's f1: 0.929073\tvalid_1's binary_logloss: 0.0189246\tvalid_1's f1: 0.894182\n",
      "[75]\ttraining's binary_logloss: 0.0112015\ttraining's f1: 0.930123\tvalid_1's binary_logloss: 0.0187441\tvalid_1's f1: 0.894764\n",
      "[76]\ttraining's binary_logloss: 0.0110318\ttraining's f1: 0.930892\tvalid_1's binary_logloss: 0.018635\tvalid_1's f1: 0.895314\n",
      "[77]\ttraining's binary_logloss: 0.0108498\ttraining's f1: 0.932325\tvalid_1's binary_logloss: 0.018498\tvalid_1's f1: 0.896536\n",
      "[78]\ttraining's binary_logloss: 0.0106497\ttraining's f1: 0.933565\tvalid_1's binary_logloss: 0.0183483\tvalid_1's f1: 0.897227\n",
      "[79]\ttraining's binary_logloss: 0.0104615\ttraining's f1: 0.934775\tvalid_1's binary_logloss: 0.0182015\tvalid_1's f1: 0.89841\n",
      "[80]\ttraining's binary_logloss: 0.0102906\ttraining's f1: 0.935725\tvalid_1's binary_logloss: 0.0180818\tvalid_1's f1: 0.898852\n",
      "[81]\ttraining's binary_logloss: 0.0101115\ttraining's f1: 0.936373\tvalid_1's binary_logloss: 0.0179522\tvalid_1's f1: 0.899362\n",
      "[82]\ttraining's binary_logloss: 0.00993075\ttraining's f1: 0.937317\tvalid_1's binary_logloss: 0.0178045\tvalid_1's f1: 0.899807\n",
      "[83]\ttraining's binary_logloss: 0.00976045\ttraining's f1: 0.937944\tvalid_1's binary_logloss: 0.0176807\tvalid_1's f1: 0.900747\n",
      "[84]\ttraining's binary_logloss: 0.00959463\ttraining's f1: 0.939319\tvalid_1's binary_logloss: 0.0175509\tvalid_1's f1: 0.901299\n",
      "[85]\ttraining's binary_logloss: 0.00945788\ttraining's f1: 0.940392\tvalid_1's binary_logloss: 0.0174482\tvalid_1's f1: 0.901903\n",
      "[86]\ttraining's binary_logloss: 0.00928879\ttraining's f1: 0.941079\tvalid_1's binary_logloss: 0.017335\tvalid_1's f1: 0.902373\n",
      "[87]\ttraining's binary_logloss: 0.00912067\ttraining's f1: 0.942395\tvalid_1's binary_logloss: 0.0171889\tvalid_1's f1: 0.90317\n",
      "[88]\ttraining's binary_logloss: 0.00896368\ttraining's f1: 0.943272\tvalid_1's binary_logloss: 0.0170718\tvalid_1's f1: 0.904317\n",
      "[89]\ttraining's binary_logloss: 0.00879071\ttraining's f1: 0.944429\tvalid_1's binary_logloss: 0.0169505\tvalid_1's f1: 0.904778\n",
      "[90]\ttraining's binary_logloss: 0.0086396\ttraining's f1: 0.945169\tvalid_1's binary_logloss: 0.0168395\tvalid_1's f1: 0.905464\n",
      "[91]\ttraining's binary_logloss: 0.00850561\ttraining's f1: 0.945911\tvalid_1's binary_logloss: 0.0167493\tvalid_1's f1: 0.905941\n",
      "[92]\ttraining's binary_logloss: 0.00838589\ttraining's f1: 0.946522\tvalid_1's binary_logloss: 0.0166777\tvalid_1's f1: 0.90607\n",
      "[93]\ttraining's binary_logloss: 0.00823749\ttraining's f1: 0.947575\tvalid_1's binary_logloss: 0.0165671\tvalid_1's f1: 0.906467\n",
      "[94]\ttraining's binary_logloss: 0.0081004\ttraining's f1: 0.948835\tvalid_1's binary_logloss: 0.0164556\tvalid_1's f1: 0.907064\n",
      "[95]\ttraining's binary_logloss: 0.00797517\ttraining's f1: 0.949764\tvalid_1's binary_logloss: 0.016356\tvalid_1's f1: 0.907555\n",
      "[96]\ttraining's binary_logloss: 0.00784607\ttraining's f1: 0.950371\tvalid_1's binary_logloss: 0.0162758\tvalid_1's f1: 0.908181\n",
      "[97]\ttraining's binary_logloss: 0.00772388\ttraining's f1: 0.951076\tvalid_1's binary_logloss: 0.0161871\tvalid_1's f1: 0.908732\n",
      "[98]\ttraining's binary_logloss: 0.00760162\ttraining's f1: 0.95185\tvalid_1's binary_logloss: 0.0160862\tvalid_1's f1: 0.908717\n",
      "[99]\ttraining's binary_logloss: 0.00750122\ttraining's f1: 0.952491\tvalid_1's binary_logloss: 0.0160323\tvalid_1's f1: 0.909131\n",
      "[100]\ttraining's binary_logloss: 0.00740316\ttraining's f1: 0.953106\tvalid_1's binary_logloss: 0.0159796\tvalid_1's f1: 0.909849\n",
      "[101]\ttraining's binary_logloss: 0.00728435\ttraining's f1: 0.953736\tvalid_1's binary_logloss: 0.0158956\tvalid_1's f1: 0.910266\n",
      "[102]\ttraining's binary_logloss: 0.00717525\ttraining's f1: 0.954437\tvalid_1's binary_logloss: 0.0158313\tvalid_1's f1: 0.91039\n",
      "[103]\ttraining's binary_logloss: 0.007057\ttraining's f1: 0.955057\tvalid_1's binary_logloss: 0.0157493\tvalid_1's f1: 0.910955\n",
      "[104]\ttraining's binary_logloss: 0.00695554\ttraining's f1: 0.95579\tvalid_1's binary_logloss: 0.0156769\tvalid_1's f1: 0.911049\n",
      "[105]\ttraining's binary_logloss: 0.00686688\ttraining's f1: 0.956399\tvalid_1's binary_logloss: 0.0156152\tvalid_1's f1: 0.911323\n",
      "[106]\ttraining's binary_logloss: 0.0067655\ttraining's f1: 0.956899\tvalid_1's binary_logloss: 0.0155455\tvalid_1's f1: 0.911794\n",
      "[107]\ttraining's binary_logloss: 0.00667168\ttraining's f1: 0.957652\tvalid_1's binary_logloss: 0.015477\tvalid_1's f1: 0.911901\n",
      "[108]\ttraining's binary_logloss: 0.00657216\ttraining's f1: 0.958238\tvalid_1's binary_logloss: 0.0154158\tvalid_1's f1: 0.912614\n",
      "[109]\ttraining's binary_logloss: 0.00645768\ttraining's f1: 0.959023\tvalid_1's binary_logloss: 0.0153408\tvalid_1's f1: 0.912979\n",
      "[110]\ttraining's binary_logloss: 0.00636501\ttraining's f1: 0.959697\tvalid_1's binary_logloss: 0.0152649\tvalid_1's f1: 0.913403\n",
      "[111]\ttraining's binary_logloss: 0.00625186\ttraining's f1: 0.96043\tvalid_1's binary_logloss: 0.0151926\tvalid_1's f1: 0.913858\n",
      "[112]\ttraining's binary_logloss: 0.00615286\ttraining's f1: 0.960967\tvalid_1's binary_logloss: 0.0151199\tvalid_1's f1: 0.914144\n",
      "[113]\ttraining's binary_logloss: 0.00607876\ttraining's f1: 0.961548\tvalid_1's binary_logloss: 0.015077\tvalid_1's f1: 0.914188\n",
      "[114]\ttraining's binary_logloss: 0.00599521\ttraining's f1: 0.962229\tvalid_1's binary_logloss: 0.0150102\tvalid_1's f1: 0.914682\n",
      "[115]\ttraining's binary_logloss: 0.00590542\ttraining's f1: 0.962713\tvalid_1's binary_logloss: 0.0149625\tvalid_1's f1: 0.914726\n",
      "[116]\ttraining's binary_logloss: 0.00582327\ttraining's f1: 0.963398\tvalid_1's binary_logloss: 0.0149\tvalid_1's f1: 0.914859\n",
      "[117]\ttraining's binary_logloss: 0.00573675\ttraining's f1: 0.9641\tvalid_1's binary_logloss: 0.0148435\tvalid_1's f1: 0.915562\n",
      "[118]\ttraining's binary_logloss: 0.00564923\ttraining's f1: 0.964688\tvalid_1's binary_logloss: 0.0147801\tvalid_1's f1: 0.916118\n",
      "[119]\ttraining's binary_logloss: 0.00557317\ttraining's f1: 0.965206\tvalid_1's binary_logloss: 0.0147403\tvalid_1's f1: 0.916586\n",
      "[120]\ttraining's binary_logloss: 0.00547137\ttraining's f1: 0.966231\tvalid_1's binary_logloss: 0.0146711\tvalid_1's f1: 0.917033\n",
      "[121]\ttraining's binary_logloss: 0.00538971\ttraining's f1: 0.966911\tvalid_1's binary_logloss: 0.0146114\tvalid_1's f1: 0.917392\n",
      "[122]\ttraining's binary_logloss: 0.00530651\ttraining's f1: 0.96726\tvalid_1's binary_logloss: 0.0145438\tvalid_1's f1: 0.917962\n",
      "[123]\ttraining's binary_logloss: 0.0052439\ttraining's f1: 0.967812\tvalid_1's binary_logloss: 0.0144939\tvalid_1's f1: 0.918488\n",
      "[124]\ttraining's binary_logloss: 0.00517013\ttraining's f1: 0.96838\tvalid_1's binary_logloss: 0.014451\tvalid_1's f1: 0.918699\n",
      "[125]\ttraining's binary_logloss: 0.00509509\ttraining's f1: 0.96895\tvalid_1's binary_logloss: 0.0144044\tvalid_1's f1: 0.918812\n",
      "[126]\ttraining's binary_logloss: 0.00501979\ttraining's f1: 0.969668\tvalid_1's binary_logloss: 0.0143547\tvalid_1's f1: 0.919297\n",
      "[127]\ttraining's binary_logloss: 0.00494744\ttraining's f1: 0.970138\tvalid_1's binary_logloss: 0.0142977\tvalid_1's f1: 0.919713\n",
      "[128]\ttraining's binary_logloss: 0.00488129\ttraining's f1: 0.970388\tvalid_1's binary_logloss: 0.0142698\tvalid_1's f1: 0.919916\n",
      "[129]\ttraining's binary_logloss: 0.00480906\ttraining's f1: 0.970785\tvalid_1's binary_logloss: 0.0142282\tvalid_1's f1: 0.920243\n",
      "[130]\ttraining's binary_logloss: 0.00474794\ttraining's f1: 0.971169\tvalid_1's binary_logloss: 0.0141961\tvalid_1's f1: 0.920394\n",
      "[131]\ttraining's binary_logloss: 0.00468012\ttraining's f1: 0.971597\tvalid_1's binary_logloss: 0.014159\tvalid_1's f1: 0.920456\n",
      "[132]\ttraining's binary_logloss: 0.00461616\ttraining's f1: 0.972189\tvalid_1's binary_logloss: 0.0141196\tvalid_1's f1: 0.92048\n"
     ]
    },
    {
     "name": "stdout",
     "output_type": "stream",
     "text": [
      "[133]\ttraining's binary_logloss: 0.00455717\ttraining's f1: 0.972798\tvalid_1's binary_logloss: 0.0140837\tvalid_1's f1: 0.920618\n",
      "[134]\ttraining's binary_logloss: 0.00449694\ttraining's f1: 0.973318\tvalid_1's binary_logloss: 0.0140486\tvalid_1's f1: 0.920722\n",
      "[135]\ttraining's binary_logloss: 0.00443819\ttraining's f1: 0.973795\tvalid_1's binary_logloss: 0.0140133\tvalid_1's f1: 0.920836\n",
      "[136]\ttraining's binary_logloss: 0.00437637\ttraining's f1: 0.974393\tvalid_1's binary_logloss: 0.0139814\tvalid_1's f1: 0.921164\n",
      "[137]\ttraining's binary_logloss: 0.00431012\ttraining's f1: 0.974917\tvalid_1's binary_logloss: 0.0139402\tvalid_1's f1: 0.921439\n",
      "[138]\ttraining's binary_logloss: 0.00425114\ttraining's f1: 0.975397\tvalid_1's binary_logloss: 0.0138987\tvalid_1's f1: 0.921526\n",
      "[139]\ttraining's binary_logloss: 0.00419776\ttraining's f1: 0.975742\tvalid_1's binary_logloss: 0.0138617\tvalid_1's f1: 0.921821\n",
      "[140]\ttraining's binary_logloss: 0.00413913\ttraining's f1: 0.976209\tvalid_1's binary_logloss: 0.013833\tvalid_1's f1: 0.92205\n",
      "[141]\ttraining's binary_logloss: 0.00407423\ttraining's f1: 0.976737\tvalid_1's binary_logloss: 0.0137865\tvalid_1's f1: 0.922614\n",
      "[142]\ttraining's binary_logloss: 0.00401934\ttraining's f1: 0.977175\tvalid_1's binary_logloss: 0.0137464\tvalid_1's f1: 0.922767\n",
      "[143]\ttraining's binary_logloss: 0.00395995\ttraining's f1: 0.97769\tvalid_1's binary_logloss: 0.0136965\tvalid_1's f1: 0.923201\n",
      "[144]\ttraining's binary_logloss: 0.00390394\ttraining's f1: 0.978054\tvalid_1's binary_logloss: 0.0136556\tvalid_1's f1: 0.923147\n",
      "[145]\ttraining's binary_logloss: 0.00385695\ttraining's f1: 0.978312\tvalid_1's binary_logloss: 0.0136355\tvalid_1's f1: 0.923249\n",
      "[146]\ttraining's binary_logloss: 0.00380054\ttraining's f1: 0.978647\tvalid_1's binary_logloss: 0.0136096\tvalid_1's f1: 0.923417\n",
      "[147]\ttraining's binary_logloss: 0.0037402\ttraining's f1: 0.979119\tvalid_1's binary_logloss: 0.0135716\tvalid_1's f1: 0.923494\n",
      "[148]\ttraining's binary_logloss: 0.00368582\ttraining's f1: 0.979424\tvalid_1's binary_logloss: 0.013529\tvalid_1's f1: 0.923969\n",
      "[149]\ttraining's binary_logloss: 0.00364332\ttraining's f1: 0.979791\tvalid_1's binary_logloss: 0.0135075\tvalid_1's f1: 0.924019\n",
      "[150]\ttraining's binary_logloss: 0.00359119\ttraining's f1: 0.980234\tvalid_1's binary_logloss: 0.0134679\tvalid_1's f1: 0.924536\n",
      "[151]\ttraining's binary_logloss: 0.00353532\ttraining's f1: 0.980556\tvalid_1's binary_logloss: 0.0134238\tvalid_1's f1: 0.925158\n",
      "[152]\ttraining's binary_logloss: 0.00348535\ttraining's f1: 0.980955\tvalid_1's binary_logloss: 0.013403\tvalid_1's f1: 0.925325\n",
      "[153]\ttraining's binary_logloss: 0.00344463\ttraining's f1: 0.981232\tvalid_1's binary_logloss: 0.0133796\tvalid_1's f1: 0.925442\n",
      "[154]\ttraining's binary_logloss: 0.00339979\ttraining's f1: 0.981478\tvalid_1's binary_logloss: 0.0133462\tvalid_1's f1: 0.92561\n",
      "[155]\ttraining's binary_logloss: 0.00335002\ttraining's f1: 0.981894\tvalid_1's binary_logloss: 0.0133155\tvalid_1's f1: 0.925714\n",
      "[156]\ttraining's binary_logloss: 0.00329742\ttraining's f1: 0.982357\tvalid_1's binary_logloss: 0.013292\tvalid_1's f1: 0.926078\n",
      "[157]\ttraining's binary_logloss: 0.00324993\ttraining's f1: 0.982589\tvalid_1's binary_logloss: 0.013257\tvalid_1's f1: 0.926456\n",
      "[158]\ttraining's binary_logloss: 0.00320913\ttraining's f1: 0.982914\tvalid_1's binary_logloss: 0.0132341\tvalid_1's f1: 0.9266\n",
      "[159]\ttraining's binary_logloss: 0.0031647\ttraining's f1: 0.983192\tvalid_1's binary_logloss: 0.0131935\tvalid_1's f1: 0.926952\n",
      "[160]\ttraining's binary_logloss: 0.00312866\ttraining's f1: 0.98358\tvalid_1's binary_logloss: 0.013178\tvalid_1's f1: 0.927135\n",
      "[161]\ttraining's binary_logloss: 0.00308906\ttraining's f1: 0.984155\tvalid_1's binary_logloss: 0.0131627\tvalid_1's f1: 0.92707\n",
      "[162]\ttraining's binary_logloss: 0.0030411\ttraining's f1: 0.984233\tvalid_1's binary_logloss: 0.0131312\tvalid_1's f1: 0.927175\n",
      "[163]\ttraining's binary_logloss: 0.0029933\ttraining's f1: 0.984545\tvalid_1's binary_logloss: 0.0131005\tvalid_1's f1: 0.92728\n",
      "[164]\ttraining's binary_logloss: 0.00295088\ttraining's f1: 0.985012\tvalid_1's binary_logloss: 0.0130675\tvalid_1's f1: 0.927254\n",
      "[165]\ttraining's binary_logloss: 0.00290462\ttraining's f1: 0.985356\tvalid_1's binary_logloss: 0.0130423\tvalid_1's f1: 0.9277\n",
      "[166]\ttraining's binary_logloss: 0.00286088\ttraining's f1: 0.985826\tvalid_1's binary_logloss: 0.0130076\tvalid_1's f1: 0.927963\n",
      "[167]\ttraining's binary_logloss: 0.00282435\ttraining's f1: 0.986233\tvalid_1's binary_logloss: 0.0129848\tvalid_1's f1: 0.928279\n",
      "[168]\ttraining's binary_logloss: 0.00278869\ttraining's f1: 0.986626\tvalid_1's binary_logloss: 0.012965\tvalid_1's f1: 0.928595\n",
      "[169]\ttraining's binary_logloss: 0.00275063\ttraining's f1: 0.986972\tvalid_1's binary_logloss: 0.0129514\tvalid_1's f1: 0.928766\n",
      "[170]\ttraining's binary_logloss: 0.00271162\ttraining's f1: 0.987271\tvalid_1's binary_logloss: 0.0129259\tvalid_1's f1: 0.929003\n",
      "[171]\ttraining's binary_logloss: 0.00267739\ttraining's f1: 0.987618\tvalid_1's binary_logloss: 0.0129187\tvalid_1's f1: 0.929268\n",
      "[172]\ttraining's binary_logloss: 0.00263528\ttraining's f1: 0.988155\tvalid_1's binary_logloss: 0.0128958\tvalid_1's f1: 0.929533\n",
      "[173]\ttraining's binary_logloss: 0.00259832\ttraining's f1: 0.988423\tvalid_1's binary_logloss: 0.012868\tvalid_1's f1: 0.929613\n",
      "[174]\ttraining's binary_logloss: 0.0025604\ttraining's f1: 0.988645\tvalid_1's binary_logloss: 0.0128526\tvalid_1's f1: 0.92968\n",
      "[175]\ttraining's binary_logloss: 0.00252392\ttraining's f1: 0.988978\tvalid_1's binary_logloss: 0.0128245\tvalid_1's f1: 0.929824\n",
      "[176]\ttraining's binary_logloss: 0.0024839\ttraining's f1: 0.989216\tvalid_1's binary_logloss: 0.0127941\tvalid_1's f1: 0.929998\n",
      "[177]\ttraining's binary_logloss: 0.00245553\ttraining's f1: 0.98947\tvalid_1's binary_logloss: 0.0127724\tvalid_1's f1: 0.930065\n",
      "[178]\ttraining's binary_logloss: 0.00242364\ttraining's f1: 0.989725\tvalid_1's binary_logloss: 0.0127531\tvalid_1's f1: 0.930317\n",
      "[179]\ttraining's binary_logloss: 0.00238897\ttraining's f1: 0.990123\tvalid_1's binary_logloss: 0.0127312\tvalid_1's f1: 0.930437\n",
      "[180]\ttraining's binary_logloss: 0.00235673\ttraining's f1: 0.990362\tvalid_1's binary_logloss: 0.0127101\tvalid_1's f1: 0.930424\n",
      "[181]\ttraining's binary_logloss: 0.00232962\ttraining's f1: 0.990537\tvalid_1's binary_logloss: 0.0126981\tvalid_1's f1: 0.930534\n",
      "[182]\ttraining's binary_logloss: 0.00229671\ttraining's f1: 0.990777\tvalid_1's binary_logloss: 0.0126756\tvalid_1's f1: 0.930654\n",
      "[183]\ttraining's binary_logloss: 0.00226519\ttraining's f1: 0.991144\tvalid_1's binary_logloss: 0.0126606\tvalid_1's f1: 0.930601\n",
      "[184]\ttraining's binary_logloss: 0.00223381\ttraining's f1: 0.991401\tvalid_1's binary_logloss: 0.0126424\tvalid_1's f1: 0.930641\n",
      "[185]\ttraining's binary_logloss: 0.00220327\ttraining's f1: 0.991481\tvalid_1's binary_logloss: 0.0126172\tvalid_1's f1: 0.930669\n",
      "[186]\ttraining's binary_logloss: 0.00217332\ttraining's f1: 0.991625\tvalid_1's binary_logloss: 0.0125996\tvalid_1's f1: 0.931002\n",
      "[187]\ttraining's binary_logloss: 0.00214413\ttraining's f1: 0.991865\tvalid_1's binary_logloss: 0.0125837\tvalid_1's f1: 0.93147\n",
      "[188]\ttraining's binary_logloss: 0.00211515\ttraining's f1: 0.991978\tvalid_1's binary_logloss: 0.0125635\tvalid_1's f1: 0.931631\n",
      "[189]\ttraining's binary_logloss: 0.00208587\ttraining's f1: 0.992154\tvalid_1's binary_logloss: 0.0125416\tvalid_1's f1: 0.931538\n",
      "[190]\ttraining's binary_logloss: 0.00205544\ttraining's f1: 0.992379\tvalid_1's binary_logloss: 0.0125305\tvalid_1's f1: 0.931619\n",
      "[191]\ttraining's binary_logloss: 0.00202567\ttraining's f1: 0.992508\tvalid_1's binary_logloss: 0.0125136\tvalid_1's f1: 0.931711\n",
      "[192]\ttraining's binary_logloss: 0.00200285\ttraining's f1: 0.992717\tvalid_1's binary_logloss: 0.0124995\tvalid_1's f1: 0.931792\n",
      "[193]\ttraining's binary_logloss: 0.00197525\ttraining's f1: 0.992975\tvalid_1's binary_logloss: 0.0124966\tvalid_1's f1: 0.931792\n",
      "[194]\ttraining's binary_logloss: 0.00194611\ttraining's f1: 0.993168\tvalid_1's binary_logloss: 0.0124885\tvalid_1's f1: 0.931888\n",
      "[195]\ttraining's binary_logloss: 0.00192127\ttraining's f1: 0.993313\tvalid_1's binary_logloss: 0.0124704\tvalid_1's f1: 0.932037\n",
      "[196]\ttraining's binary_logloss: 0.00189796\ttraining's f1: 0.993523\tvalid_1's binary_logloss: 0.0124554\tvalid_1's f1: 0.932182\n",
      "[197]\ttraining's binary_logloss: 0.00187291\ttraining's f1: 0.993604\tvalid_1's binary_logloss: 0.0124507\tvalid_1's f1: 0.932024\n"
     ]
    },
    {
     "name": "stdout",
     "output_type": "stream",
     "text": [
      "[198]\ttraining's binary_logloss: 0.00185062\ttraining's f1: 0.99375\tvalid_1's binary_logloss: 0.0124351\tvalid_1's f1: 0.932601\n",
      "[199]\ttraining's binary_logloss: 0.00182698\ttraining's f1: 0.993847\tvalid_1's binary_logloss: 0.0124222\tvalid_1's f1: 0.932294\n",
      "[200]\ttraining's binary_logloss: 0.00179933\ttraining's f1: 0.994089\tvalid_1's binary_logloss: 0.0123963\tvalid_1's f1: 0.932282\n",
      "[201]\ttraining's binary_logloss: 0.00177476\ttraining's f1: 0.994348\tvalid_1's binary_logloss: 0.0123884\tvalid_1's f1: 0.932391\n",
      "[202]\ttraining's binary_logloss: 0.00175253\ttraining's f1: 0.994494\tvalid_1's binary_logloss: 0.0123734\tvalid_1's f1: 0.932568\n",
      "[203]\ttraining's binary_logloss: 0.00173058\ttraining's f1: 0.994656\tvalid_1's binary_logloss: 0.0123562\tvalid_1's f1: 0.932621\n",
      "[204]\ttraining's binary_logloss: 0.00171095\ttraining's f1: 0.99477\tvalid_1's binary_logloss: 0.012348\tvalid_1's f1: 0.932754\n",
      "[205]\ttraining's binary_logloss: 0.00168773\ttraining's f1: 0.994997\tvalid_1's binary_logloss: 0.0123384\tvalid_1's f1: 0.932835\n",
      "[206]\ttraining's binary_logloss: 0.00166398\ttraining's f1: 0.995111\tvalid_1's binary_logloss: 0.0123308\tvalid_1's f1: 0.933009\n",
      "[207]\ttraining's binary_logloss: 0.00164318\ttraining's f1: 0.995322\tvalid_1's binary_logloss: 0.0123149\tvalid_1's f1: 0.933025\n",
      "[208]\ttraining's binary_logloss: 0.00162381\ttraining's f1: 0.99542\tvalid_1's binary_logloss: 0.0123005\tvalid_1's f1: 0.933001\n",
      "[209]\ttraining's binary_logloss: 0.00159966\ttraining's f1: 0.995501\tvalid_1's binary_logloss: 0.0122851\tvalid_1's f1: 0.93307\n",
      "[210]\ttraining's binary_logloss: 0.00157807\ttraining's f1: 0.99568\tvalid_1's binary_logloss: 0.0122788\tvalid_1's f1: 0.933086\n",
      "[211]\ttraining's binary_logloss: 0.00155642\ttraining's f1: 0.995811\tvalid_1's binary_logloss: 0.0122703\tvalid_1's f1: 0.933301\n",
      "[212]\ttraining's binary_logloss: 0.00153778\ttraining's f1: 0.995892\tvalid_1's binary_logloss: 0.0122514\tvalid_1's f1: 0.933196\n",
      "[213]\ttraining's binary_logloss: 0.00151888\ttraining's f1: 0.996039\tvalid_1's binary_logloss: 0.0122528\tvalid_1's f1: 0.933277\n",
      "[214]\ttraining's binary_logloss: 0.00149955\ttraining's f1: 0.99612\tvalid_1's binary_logloss: 0.0122407\tvalid_1's f1: 0.933423\n",
      "[215]\ttraining's binary_logloss: 0.00148244\ttraining's f1: 0.996202\tvalid_1's binary_logloss: 0.0122265\tvalid_1's f1: 0.933655\n",
      "[216]\ttraining's binary_logloss: 0.00146233\ttraining's f1: 0.996218\tvalid_1's binary_logloss: 0.0122137\tvalid_1's f1: 0.933777\n",
      "[217]\ttraining's binary_logloss: 0.00144357\ttraining's f1: 0.996365\tvalid_1's binary_logloss: 0.0122046\tvalid_1's f1: 0.933968\n",
      "[218]\ttraining's binary_logloss: 0.00142603\ttraining's f1: 0.996431\tvalid_1's binary_logloss: 0.0121909\tvalid_1's f1: 0.934004\n",
      "[219]\ttraining's binary_logloss: 0.0014076\ttraining's f1: 0.996561\tvalid_1's binary_logloss: 0.0121769\tvalid_1's f1: 0.934196\n",
      "[220]\ttraining's binary_logloss: 0.00139228\ttraining's f1: 0.996643\tvalid_1's binary_logloss: 0.0121635\tvalid_1's f1: 0.934212\n",
      "[221]\ttraining's binary_logloss: 0.0013736\ttraining's f1: 0.996725\tvalid_1's binary_logloss: 0.0121538\tvalid_1's f1: 0.934311\n",
      "[222]\ttraining's binary_logloss: 0.0013551\ttraining's f1: 0.996856\tvalid_1's binary_logloss: 0.0121491\tvalid_1's f1: 0.934136\n",
      "[223]\ttraining's binary_logloss: 0.0013352\ttraining's f1: 0.996954\tvalid_1's binary_logloss: 0.0121404\tvalid_1's f1: 0.934544\n",
      "[224]\ttraining's binary_logloss: 0.0013188\ttraining's f1: 0.997019\tvalid_1's binary_logloss: 0.0121353\tvalid_1's f1: 0.934532\n",
      "[225]\ttraining's binary_logloss: 0.00130272\ttraining's f1: 0.997118\tvalid_1's binary_logloss: 0.012127\tvalid_1's f1: 0.93459\n",
      "[226]\ttraining's binary_logloss: 0.00128844\ttraining's f1: 0.997199\tvalid_1's binary_logloss: 0.0121168\tvalid_1's f1: 0.934736\n",
      "[227]\ttraining's binary_logloss: 0.00127083\ttraining's f1: 0.997232\tvalid_1's binary_logloss: 0.0121057\tvalid_1's f1: 0.934835\n",
      "[228]\ttraining's binary_logloss: 0.00125723\ttraining's f1: 0.997331\tvalid_1's binary_logloss: 0.0120991\tvalid_1's f1: 0.934765\n",
      "[229]\ttraining's binary_logloss: 0.00124068\ttraining's f1: 0.997429\tvalid_1's binary_logloss: 0.0120863\tvalid_1's f1: 0.934818\n",
      "[230]\ttraining's binary_logloss: 0.00122514\ttraining's f1: 0.997577\tvalid_1's binary_logloss: 0.0120812\tvalid_1's f1: 0.934736\n",
      "[231]\ttraining's binary_logloss: 0.00120966\ttraining's f1: 0.997626\tvalid_1's binary_logloss: 0.0120731\tvalid_1's f1: 0.934578\n",
      "[232]\ttraining's binary_logloss: 0.00119707\ttraining's f1: 0.997823\tvalid_1's binary_logloss: 0.012067\tvalid_1's f1: 0.934794\n",
      "[233]\ttraining's binary_logloss: 0.00118259\ttraining's f1: 0.997954\tvalid_1's binary_logloss: 0.0120619\tvalid_1's f1: 0.934742\n",
      "[234]\ttraining's binary_logloss: 0.00116747\ttraining's f1: 0.997954\tvalid_1's binary_logloss: 0.0120548\tvalid_1's f1: 0.93511\n",
      "[235]\ttraining's binary_logloss: 0.00115238\ttraining's f1: 0.997971\tvalid_1's binary_logloss: 0.0120442\tvalid_1's f1: 0.935245\n",
      "[236]\ttraining's binary_logloss: 0.00113817\ttraining's f1: 0.998053\tvalid_1's binary_logloss: 0.0120378\tvalid_1's f1: 0.935221\n",
      "[237]\ttraining's binary_logloss: 0.00112474\ttraining's f1: 0.998135\tvalid_1's binary_logloss: 0.0120271\tvalid_1's f1: 0.935303\n",
      "[238]\ttraining's binary_logloss: 0.00110971\ttraining's f1: 0.998267\tvalid_1's binary_logloss: 0.0120284\tvalid_1's f1: 0.935268\n",
      "[239]\ttraining's binary_logloss: 0.00109534\ttraining's f1: 0.998382\tvalid_1's binary_logloss: 0.0120193\tvalid_1's f1: 0.935543\n",
      "[240]\ttraining's binary_logloss: 0.00108397\ttraining's f1: 0.998431\tvalid_1's binary_logloss: 0.0120087\tvalid_1's f1: 0.935532\n",
      "[241]\ttraining's binary_logloss: 0.0010693\ttraining's f1: 0.998448\tvalid_1's binary_logloss: 0.0119933\tvalid_1's f1: 0.935725\n",
      "[242]\ttraining's binary_logloss: 0.00105668\ttraining's f1: 0.998448\tvalid_1's binary_logloss: 0.0119836\tvalid_1's f1: 0.935673\n",
      "[243]\ttraining's binary_logloss: 0.00104345\ttraining's f1: 0.99853\tvalid_1's binary_logloss: 0.0119797\tvalid_1's f1: 0.935808\n",
      "[244]\ttraining's binary_logloss: 0.00102888\ttraining's f1: 0.998546\tvalid_1's binary_logloss: 0.0119653\tvalid_1's f1: 0.936149\n",
      "[245]\ttraining's binary_logloss: 0.00101584\ttraining's f1: 0.998596\tvalid_1's binary_logloss: 0.0119568\tvalid_1's f1: 0.935843\n",
      "[246]\ttraining's binary_logloss: 0.00100401\ttraining's f1: 0.998612\tvalid_1's binary_logloss: 0.0119495\tvalid_1's f1: 0.936073\n",
      "[247]\ttraining's binary_logloss: 0.000992047\ttraining's f1: 0.998662\tvalid_1's binary_logloss: 0.0119453\tvalid_1's f1: 0.936084\n",
      "[248]\ttraining's binary_logloss: 0.000980579\ttraining's f1: 0.998711\tvalid_1's binary_logloss: 0.0119422\tvalid_1's f1: 0.936267\n",
      "[249]\ttraining's binary_logloss: 0.000968504\ttraining's f1: 0.998728\tvalid_1's binary_logloss: 0.0119311\tvalid_1's f1: 0.93635\n",
      "[250]\ttraining's binary_logloss: 0.000955738\ttraining's f1: 0.998777\tvalid_1's binary_logloss: 0.0119169\tvalid_1's f1: 0.936556\n",
      "[251]\ttraining's binary_logloss: 0.000943802\ttraining's f1: 0.998777\tvalid_1's binary_logloss: 0.0119051\tvalid_1's f1: 0.936881\n",
      "[252]\ttraining's binary_logloss: 0.000934523\ttraining's f1: 0.99881\tvalid_1's binary_logloss: 0.0119051\tvalid_1's f1: 0.936745\n",
      "[253]\ttraining's binary_logloss: 0.000922564\ttraining's f1: 0.998843\tvalid_1's binary_logloss: 0.0118989\tvalid_1's f1: 0.936763\n",
      "[254]\ttraining's binary_logloss: 0.000911361\ttraining's f1: 0.998876\tvalid_1's binary_logloss: 0.0118939\tvalid_1's f1: 0.936722\n",
      "[255]\ttraining's binary_logloss: 0.000899341\ttraining's f1: 0.998926\tvalid_1's binary_logloss: 0.01189\tvalid_1's f1: 0.93694\n",
      "[256]\ttraining's binary_logloss: 0.000888647\ttraining's f1: 0.998942\tvalid_1's binary_logloss: 0.0118861\tvalid_1's f1: 0.93694\n",
      "[257]\ttraining's binary_logloss: 0.000878108\ttraining's f1: 0.998992\tvalid_1's binary_logloss: 0.0118826\tvalid_1's f1: 0.936846\n",
      "[258]\ttraining's binary_logloss: 0.000868051\ttraining's f1: 0.999008\tvalid_1's binary_logloss: 0.011877\tvalid_1's f1: 0.936751\n",
      "[259]\ttraining's binary_logloss: 0.000858265\ttraining's f1: 0.999041\tvalid_1's binary_logloss: 0.01188\tvalid_1's f1: 0.936988\n",
      "[260]\ttraining's binary_logloss: 0.00084849\ttraining's f1: 0.999074\tvalid_1's binary_logloss: 0.0118789\tvalid_1's f1: 0.937094\n",
      "[261]\ttraining's binary_logloss: 0.000839783\ttraining's f1: 0.999091\tvalid_1's binary_logloss: 0.0118725\tvalid_1's f1: 0.936947\n",
      "[262]\ttraining's binary_logloss: 0.000830404\ttraining's f1: 0.999124\tvalid_1's binary_logloss: 0.0118737\tvalid_1's f1: 0.937\n"
     ]
    },
    {
     "name": "stdout",
     "output_type": "stream",
     "text": [
      "[263]\ttraining's binary_logloss: 0.000819445\ttraining's f1: 0.999157\tvalid_1's binary_logloss: 0.0118703\tvalid_1's f1: 0.937124\n",
      "[264]\ttraining's binary_logloss: 0.000810367\ttraining's f1: 0.999173\tvalid_1's binary_logloss: 0.0118656\tvalid_1's f1: 0.937301\n",
      "[265]\ttraining's binary_logloss: 0.000801223\ttraining's f1: 0.999239\tvalid_1's binary_logloss: 0.0118573\tvalid_1's f1: 0.937698\n",
      "[266]\ttraining's binary_logloss: 0.000792727\ttraining's f1: 0.999289\tvalid_1's binary_logloss: 0.0118511\tvalid_1's f1: 0.937917\n",
      "[267]\ttraining's binary_logloss: 0.000783065\ttraining's f1: 0.999322\tvalid_1's binary_logloss: 0.0118513\tvalid_1's f1: 0.937686\n",
      "[268]\ttraining's binary_logloss: 0.000774421\ttraining's f1: 0.999322\tvalid_1's binary_logloss: 0.0118454\tvalid_1's f1: 0.937663\n",
      "[269]\ttraining's binary_logloss: 0.000765015\ttraining's f1: 0.999338\tvalid_1's binary_logloss: 0.0118413\tvalid_1's f1: 0.937894\n",
      "[270]\ttraining's binary_logloss: 0.000757186\ttraining's f1: 0.999355\tvalid_1's binary_logloss: 0.0118381\tvalid_1's f1: 0.937966\n",
      "[271]\ttraining's binary_logloss: 0.000749166\ttraining's f1: 0.999388\tvalid_1's binary_logloss: 0.0118349\tvalid_1's f1: 0.937587\n",
      "[272]\ttraining's binary_logloss: 0.000740856\ttraining's f1: 0.999371\tvalid_1's binary_logloss: 0.0118291\tvalid_1's f1: 0.937599\n",
      "[273]\ttraining's binary_logloss: 0.00073288\ttraining's f1: 0.999371\tvalid_1's binary_logloss: 0.0118294\tvalid_1's f1: 0.937534\n",
      "[274]\ttraining's binary_logloss: 0.000724185\ttraining's f1: 0.999371\tvalid_1's binary_logloss: 0.0118278\tvalid_1's f1: 0.937943\n",
      "[275]\ttraining's binary_logloss: 0.000716284\ttraining's f1: 0.999404\tvalid_1's binary_logloss: 0.0118204\tvalid_1's f1: 0.937932\n",
      "[276]\ttraining's binary_logloss: 0.000707553\ttraining's f1: 0.999404\tvalid_1's binary_logloss: 0.0118163\tvalid_1's f1: 0.937731\n",
      "[277]\ttraining's binary_logloss: 0.000699726\ttraining's f1: 0.999437\tvalid_1's binary_logloss: 0.0118158\tvalid_1's f1: 0.937659\n",
      "[278]\ttraining's binary_logloss: 0.000691315\ttraining's f1: 0.99947\tvalid_1's binary_logloss: 0.011814\tvalid_1's f1: 0.937856\n",
      "[279]\ttraining's binary_logloss: 0.000682573\ttraining's f1: 0.999504\tvalid_1's binary_logloss: 0.0118069\tvalid_1's f1: 0.937981\n",
      "[280]\ttraining's binary_logloss: 0.000675359\ttraining's f1: 0.999504\tvalid_1's binary_logloss: 0.0118048\tvalid_1's f1: 0.937927\n",
      "[281]\ttraining's binary_logloss: 0.000668226\ttraining's f1: 0.99952\tvalid_1's binary_logloss: 0.0118018\tvalid_1's f1: 0.938117\n",
      "[282]\ttraining's binary_logloss: 0.000661042\ttraining's f1: 0.999537\tvalid_1's binary_logloss: 0.0118045\tvalid_1's f1: 0.938189\n",
      "[283]\ttraining's binary_logloss: 0.000653109\ttraining's f1: 0.999537\tvalid_1's binary_logloss: 0.0117974\tvalid_1's f1: 0.938189\n",
      "[284]\ttraining's binary_logloss: 0.000646162\ttraining's f1: 0.999586\tvalid_1's binary_logloss: 0.0117918\tvalid_1's f1: 0.938177\n",
      "[285]\ttraining's binary_logloss: 0.000639654\ttraining's f1: 0.999636\tvalid_1's binary_logloss: 0.0117881\tvalid_1's f1: 0.938344\n",
      "[286]\ttraining's binary_logloss: 0.000632464\ttraining's f1: 0.999636\tvalid_1's binary_logloss: 0.011782\tvalid_1's f1: 0.938481\n",
      "[287]\ttraining's binary_logloss: 0.000625037\ttraining's f1: 0.999636\tvalid_1's binary_logloss: 0.0117718\tvalid_1's f1: 0.938522\n",
      "[288]\ttraining's binary_logloss: 0.00061802\ttraining's f1: 0.999652\tvalid_1's binary_logloss: 0.0117665\tvalid_1's f1: 0.938564\n",
      "[289]\ttraining's binary_logloss: 0.000612064\ttraining's f1: 0.999669\tvalid_1's binary_logloss: 0.011766\tvalid_1's f1: 0.938534\n",
      "[290]\ttraining's binary_logloss: 0.000605377\ttraining's f1: 0.999685\tvalid_1's binary_logloss: 0.0117639\tvalid_1's f1: 0.938492\n",
      "[291]\ttraining's binary_logloss: 0.000598926\ttraining's f1: 0.999685\tvalid_1's binary_logloss: 0.0117559\tvalid_1's f1: 0.938553\n",
      "[292]\ttraining's binary_logloss: 0.000592694\ttraining's f1: 0.999685\tvalid_1's binary_logloss: 0.0117564\tvalid_1's f1: 0.93872\n",
      "[293]\ttraining's binary_logloss: 0.000585725\ttraining's f1: 0.999735\tvalid_1's binary_logloss: 0.0117497\tvalid_1's f1: 0.938762\n",
      "[294]\ttraining's binary_logloss: 0.000579118\ttraining's f1: 0.999719\tvalid_1's binary_logloss: 0.0117454\tvalid_1's f1: 0.939013\n",
      "[295]\ttraining's binary_logloss: 0.000572624\ttraining's f1: 0.999719\tvalid_1's binary_logloss: 0.0117429\tvalid_1's f1: 0.938823\n",
      "[296]\ttraining's binary_logloss: 0.000566826\ttraining's f1: 0.999752\tvalid_1's binary_logloss: 0.0117391\tvalid_1's f1: 0.938853\n",
      "[297]\ttraining's binary_logloss: 0.000560863\ttraining's f1: 0.999752\tvalid_1's binary_logloss: 0.0117385\tvalid_1's f1: 0.938716\n",
      "[298]\ttraining's binary_logloss: 0.000554399\ttraining's f1: 0.999768\tvalid_1's binary_logloss: 0.011728\tvalid_1's f1: 0.938842\n",
      "[299]\ttraining's binary_logloss: 0.000548237\ttraining's f1: 0.999768\tvalid_1's binary_logloss: 0.0117232\tvalid_1's f1: 0.939032\n",
      "[300]\ttraining's binary_logloss: 0.000542752\ttraining's f1: 0.999768\tvalid_1's binary_logloss: 0.0117232\tvalid_1's f1: 0.93899\n",
      "[301]\ttraining's binary_logloss: 0.000536951\ttraining's f1: 0.999768\tvalid_1's binary_logloss: 0.0117224\tvalid_1's f1: 0.939138\n",
      "[302]\ttraining's binary_logloss: 0.000531979\ttraining's f1: 0.999785\tvalid_1's binary_logloss: 0.0117258\tvalid_1's f1: 0.939157\n",
      "[303]\ttraining's binary_logloss: 0.000526455\ttraining's f1: 0.999801\tvalid_1's binary_logloss: 0.0117278\tvalid_1's f1: 0.93923\n",
      "[304]\ttraining's binary_logloss: 0.000520999\ttraining's f1: 0.999818\tvalid_1's binary_logloss: 0.0117253\tvalid_1's f1: 0.939188\n",
      "[305]\ttraining's binary_logloss: 0.000515884\ttraining's f1: 0.999834\tvalid_1's binary_logloss: 0.0117245\tvalid_1's f1: 0.939135\n",
      "[306]\ttraining's binary_logloss: 0.000510677\ttraining's f1: 0.999834\tvalid_1's binary_logloss: 0.011728\tvalid_1's f1: 0.939261\n",
      "[307]\ttraining's binary_logloss: 0.000505483\ttraining's f1: 0.999834\tvalid_1's binary_logloss: 0.0117252\tvalid_1's f1: 0.939154\n",
      "[308]\ttraining's binary_logloss: 0.000500316\ttraining's f1: 0.999851\tvalid_1's binary_logloss: 0.0117228\tvalid_1's f1: 0.939333\n",
      "[309]\ttraining's binary_logloss: 0.000495184\ttraining's f1: 0.999851\tvalid_1's binary_logloss: 0.011725\tvalid_1's f1: 0.939188\n",
      "[310]\ttraining's binary_logloss: 0.000490193\ttraining's f1: 0.999851\tvalid_1's binary_logloss: 0.0117168\tvalid_1's f1: 0.939272\n",
      "[311]\ttraining's binary_logloss: 0.000485113\ttraining's f1: 0.999851\tvalid_1's binary_logloss: 0.0117112\tvalid_1's f1: 0.939577\n",
      "[312]\ttraining's binary_logloss: 0.000480169\ttraining's f1: 0.999851\tvalid_1's binary_logloss: 0.0117094\tvalid_1's f1: 0.93949\n",
      "[313]\ttraining's binary_logloss: 0.000475184\ttraining's f1: 0.999851\tvalid_1's binary_logloss: 0.0117084\tvalid_1's f1: 0.93968\n",
      "[314]\ttraining's binary_logloss: 0.000470669\ttraining's f1: 0.999851\tvalid_1's binary_logloss: 0.011709\tvalid_1's f1: 0.939649\n",
      "[315]\ttraining's binary_logloss: 0.000467106\ttraining's f1: 0.999851\tvalid_1's binary_logloss: 0.0117105\tvalid_1's f1: 0.939955\n",
      "[316]\ttraining's binary_logloss: 0.000462523\ttraining's f1: 0.999851\tvalid_1's binary_logloss: 0.0117076\tvalid_1's f1: 0.940134\n",
      "[317]\ttraining's binary_logloss: 0.000458102\ttraining's f1: 0.999868\tvalid_1's binary_logloss: 0.0117034\tvalid_1's f1: 0.940112\n",
      "[318]\ttraining's binary_logloss: 0.000454077\ttraining's f1: 0.999868\tvalid_1's binary_logloss: 0.0117086\tvalid_1's f1: 0.939986\n",
      "[319]\ttraining's binary_logloss: 0.000449731\ttraining's f1: 0.999868\tvalid_1's binary_logloss: 0.011706\tvalid_1's f1: 0.939963\n",
      "[320]\ttraining's binary_logloss: 0.000445302\ttraining's f1: 0.999868\tvalid_1's binary_logloss: 0.0117079\tvalid_1's f1: 0.94012\n",
      "[321]\ttraining's binary_logloss: 0.000441118\ttraining's f1: 0.999868\tvalid_1's binary_logloss: 0.0117101\tvalid_1's f1: 0.940047\n",
      "[322]\ttraining's binary_logloss: 0.00043665\ttraining's f1: 0.999884\tvalid_1's binary_logloss: 0.0117015\tvalid_1's f1: 0.940078\n",
      "[323]\ttraining's binary_logloss: 0.000432567\ttraining's f1: 0.999884\tvalid_1's binary_logloss: 0.0117028\tvalid_1's f1: 0.940311\n",
      "[324]\ttraining's binary_logloss: 0.000428246\ttraining's f1: 0.999884\tvalid_1's binary_logloss: 0.011697\tvalid_1's f1: 0.940078\n",
      "[325]\ttraining's binary_logloss: 0.000424039\ttraining's f1: 0.999884\tvalid_1's binary_logloss: 0.0116967\tvalid_1's f1: 0.940373\n",
      "[326]\ttraining's binary_logloss: 0.000420243\ttraining's f1: 0.999884\tvalid_1's binary_logloss: 0.0116964\tvalid_1's f1: 0.940278\n",
      "[327]\ttraining's binary_logloss: 0.000416024\ttraining's f1: 0.999884\tvalid_1's binary_logloss: 0.0116957\tvalid_1's f1: 0.940278\n"
     ]
    },
    {
     "name": "stdout",
     "output_type": "stream",
     "text": [
      "[328]\ttraining's binary_logloss: 0.000412542\ttraining's f1: 0.999884\tvalid_1's binary_logloss: 0.0116982\tvalid_1's f1: 0.940362\n",
      "[329]\ttraining's binary_logloss: 0.000407885\ttraining's f1: 0.999884\tvalid_1's binary_logloss: 0.0116949\tvalid_1's f1: 0.940362\n",
      "[330]\ttraining's binary_logloss: 0.000404391\ttraining's f1: 0.999884\tvalid_1's binary_logloss: 0.0116984\tvalid_1's f1: 0.940489\n",
      "[331]\ttraining's binary_logloss: 0.000400647\ttraining's f1: 0.999884\tvalid_1's binary_logloss: 0.0117026\tvalid_1's f1: 0.940637\n",
      "[332]\ttraining's binary_logloss: 0.000396833\ttraining's f1: 0.999884\tvalid_1's binary_logloss: 0.0116933\tvalid_1's f1: 0.940722\n",
      "[333]\ttraining's binary_logloss: 0.000393346\ttraining's f1: 0.999884\tvalid_1's binary_logloss: 0.011689\tvalid_1's f1: 0.940457\n",
      "[334]\ttraining's binary_logloss: 0.000389774\ttraining's f1: 0.999884\tvalid_1's binary_logloss: 0.0116875\tvalid_1's f1: 0.940595\n",
      "[335]\ttraining's binary_logloss: 0.000386505\ttraining's f1: 0.999884\tvalid_1's binary_logloss: 0.0116912\tvalid_1's f1: 0.940648\n",
      "[336]\ttraining's binary_logloss: 0.000382707\ttraining's f1: 0.999884\tvalid_1's binary_logloss: 0.0116875\tvalid_1's f1: 0.94069\n",
      "[337]\ttraining's binary_logloss: 0.000379385\ttraining's f1: 0.999884\tvalid_1's binary_logloss: 0.0116894\tvalid_1's f1: 0.940722\n",
      "[338]\ttraining's binary_logloss: 0.000376016\ttraining's f1: 0.999901\tvalid_1's binary_logloss: 0.0116882\tvalid_1's f1: 0.940806\n",
      "[339]\ttraining's binary_logloss: 0.000372708\ttraining's f1: 0.999934\tvalid_1's binary_logloss: 0.0116883\tvalid_1's f1: 0.940848\n",
      "[340]\ttraining's binary_logloss: 0.000369775\ttraining's f1: 0.99995\tvalid_1's binary_logloss: 0.0116932\tvalid_1's f1: 0.941028\n",
      "[341]\ttraining's binary_logloss: 0.000366234\ttraining's f1: 0.99995\tvalid_1's binary_logloss: 0.0116909\tvalid_1's f1: 0.940942\n",
      "[342]\ttraining's binary_logloss: 0.000362844\ttraining's f1: 0.999934\tvalid_1's binary_logloss: 0.0116924\tvalid_1's f1: 0.9409\n",
      "[343]\ttraining's binary_logloss: 0.000360043\ttraining's f1: 0.999934\tvalid_1's binary_logloss: 0.0116887\tvalid_1's f1: 0.941016\n",
      "[344]\ttraining's binary_logloss: 0.00035682\ttraining's f1: 0.99995\tvalid_1's binary_logloss: 0.0116833\tvalid_1's f1: 0.94092\n",
      "[345]\ttraining's binary_logloss: 0.000353536\ttraining's f1: 0.99995\tvalid_1's binary_logloss: 0.0116768\tvalid_1's f1: 0.940973\n",
      "[346]\ttraining's binary_logloss: 0.000350378\ttraining's f1: 0.999967\tvalid_1's binary_logloss: 0.0116781\tvalid_1's f1: 0.940931\n",
      "[347]\ttraining's binary_logloss: 0.000346744\ttraining's f1: 0.999967\tvalid_1's binary_logloss: 0.0116774\tvalid_1's f1: 0.941047\n",
      "[348]\ttraining's binary_logloss: 0.000343379\ttraining's f1: 0.999983\tvalid_1's binary_logloss: 0.0116804\tvalid_1's f1: 0.94092\n",
      "[349]\ttraining's binary_logloss: 0.000340258\ttraining's f1: 0.999983\tvalid_1's binary_logloss: 0.0116784\tvalid_1's f1: 0.940856\n",
      "[350]\ttraining's binary_logloss: 0.000337082\ttraining's f1: 0.999983\tvalid_1's binary_logloss: 0.0116799\tvalid_1's f1: 0.940994\n",
      "[351]\ttraining's binary_logloss: 0.000334228\ttraining's f1: 0.999983\tvalid_1's binary_logloss: 0.011681\tvalid_1's f1: 0.940845\n",
      "[352]\ttraining's binary_logloss: 0.000330851\ttraining's f1: 0.999983\tvalid_1's binary_logloss: 0.0116796\tvalid_1's f1: 0.940856\n",
      "[353]\ttraining's binary_logloss: 0.000328213\ttraining's f1: 0.999983\tvalid_1's binary_logloss: 0.0116845\tvalid_1's f1: 0.941089\n",
      "[354]\ttraining's binary_logloss: 0.000325469\ttraining's f1: 0.999983\tvalid_1's binary_logloss: 0.0116863\tvalid_1's f1: 0.941036\n",
      "[355]\ttraining's binary_logloss: 0.000322818\ttraining's f1: 0.999983\tvalid_1's binary_logloss: 0.0116878\tvalid_1's f1: 0.941036\n",
      "[356]\ttraining's binary_logloss: 0.000319958\ttraining's f1: 0.999983\tvalid_1's binary_logloss: 0.0116927\tvalid_1's f1: 0.941089\n",
      "[357]\ttraining's binary_logloss: 0.000317199\ttraining's f1: 0.999983\tvalid_1's binary_logloss: 0.011692\tvalid_1's f1: 0.941036\n",
      "[358]\ttraining's binary_logloss: 0.000314769\ttraining's f1: 0.999983\tvalid_1's binary_logloss: 0.0116967\tvalid_1's f1: 0.941036\n",
      "[359]\ttraining's binary_logloss: 0.000311982\ttraining's f1: 0.999983\tvalid_1's binary_logloss: 0.0116992\tvalid_1's f1: 0.940983\n",
      "[360]\ttraining's binary_logloss: 0.000309608\ttraining's f1: 0.999983\tvalid_1's binary_logloss: 0.011701\tvalid_1's f1: 0.940994\n",
      "[361]\ttraining's binary_logloss: 0.000306848\ttraining's f1: 1\tvalid_1's binary_logloss: 0.0117019\tvalid_1's f1: 0.940983\n",
      "[362]\ttraining's binary_logloss: 0.00030446\ttraining's f1: 1\tvalid_1's binary_logloss: 0.0117063\tvalid_1's f1: 0.940972\n",
      "[363]\ttraining's binary_logloss: 0.000301748\ttraining's f1: 1\tvalid_1's binary_logloss: 0.0117104\tvalid_1's f1: 0.940992\n",
      "[364]\ttraining's binary_logloss: 0.000299272\ttraining's f1: 1\tvalid_1's binary_logloss: 0.0117143\tvalid_1's f1: 0.941056\n",
      "[365]\ttraining's binary_logloss: 0.000296842\ttraining's f1: 1\tvalid_1's binary_logloss: 0.0117123\tvalid_1's f1: 0.941088\n",
      "[366]\ttraining's binary_logloss: 0.00029396\ttraining's f1: 1\tvalid_1's binary_logloss: 0.0117115\tvalid_1's f1: 0.940992\n",
      "[367]\ttraining's binary_logloss: 0.000291615\ttraining's f1: 1\tvalid_1's binary_logloss: 0.0117133\tvalid_1's f1: 0.94113\n",
      "[368]\ttraining's binary_logloss: 0.000289006\ttraining's f1: 1\tvalid_1's binary_logloss: 0.0117109\tvalid_1's f1: 0.941119\n",
      "[369]\ttraining's binary_logloss: 0.000286694\ttraining's f1: 1\tvalid_1's binary_logloss: 0.0117118\tvalid_1's f1: 0.941246\n",
      "[370]\ttraining's binary_logloss: 0.000284372\ttraining's f1: 1\tvalid_1's binary_logloss: 0.0117117\tvalid_1's f1: 0.941161\n",
      "[371]\ttraining's binary_logloss: 0.000281855\ttraining's f1: 1\tvalid_1's binary_logloss: 0.0117127\tvalid_1's f1: 0.941161\n",
      "[372]\ttraining's binary_logloss: 0.000279249\ttraining's f1: 1\tvalid_1's binary_logloss: 0.0117104\tvalid_1's f1: 0.94148\n",
      "[373]\ttraining's binary_logloss: 0.000276843\ttraining's f1: 1\tvalid_1's binary_logloss: 0.0117152\tvalid_1's f1: 0.941491\n",
      "[374]\ttraining's binary_logloss: 0.000274703\ttraining's f1: 1\tvalid_1's binary_logloss: 0.0117207\tvalid_1's f1: 0.941469\n",
      "[375]\ttraining's binary_logloss: 0.000272099\ttraining's f1: 1\tvalid_1's binary_logloss: 0.0117182\tvalid_1's f1: 0.941405\n",
      "[376]\ttraining's binary_logloss: 0.000269886\ttraining's f1: 1\tvalid_1's binary_logloss: 0.0117235\tvalid_1's f1: 0.941447\n",
      "[377]\ttraining's binary_logloss: 0.000267929\ttraining's f1: 1\tvalid_1's binary_logloss: 0.0117243\tvalid_1's f1: 0.941554\n",
      "[378]\ttraining's binary_logloss: 0.000265789\ttraining's f1: 1\tvalid_1's binary_logloss: 0.0117243\tvalid_1's f1: 0.941554\n",
      "[379]\ttraining's binary_logloss: 0.000263572\ttraining's f1: 1\tvalid_1's binary_logloss: 0.0117232\tvalid_1's f1: 0.941543\n",
      "[380]\ttraining's binary_logloss: 0.000261618\ttraining's f1: 1\tvalid_1's binary_logloss: 0.0117253\tvalid_1's f1: 0.941628\n",
      "[381]\ttraining's binary_logloss: 0.000259667\ttraining's f1: 1\tvalid_1's binary_logloss: 0.0117261\tvalid_1's f1: 0.941809\n",
      "[382]\ttraining's binary_logloss: 0.000257732\ttraining's f1: 1\tvalid_1's binary_logloss: 0.0117257\tvalid_1's f1: 0.941628\n",
      "[383]\ttraining's binary_logloss: 0.000255711\ttraining's f1: 1\tvalid_1's binary_logloss: 0.0117255\tvalid_1's f1: 0.941798\n",
      "[384]\ttraining's binary_logloss: 0.000254024\ttraining's f1: 1\tvalid_1's binary_logloss: 0.0117262\tvalid_1's f1: 0.941787\n",
      "[385]\ttraining's binary_logloss: 0.000252167\ttraining's f1: 1\tvalid_1's binary_logloss: 0.011726\tvalid_1's f1: 0.941925\n",
      "[386]\ttraining's binary_logloss: 0.000250057\ttraining's f1: 1\tvalid_1's binary_logloss: 0.0117212\tvalid_1's f1: 0.942138\n",
      "[387]\ttraining's binary_logloss: 0.000247996\ttraining's f1: 1\tvalid_1's binary_logloss: 0.0117238\tvalid_1's f1: 0.942138\n",
      "[388]\ttraining's binary_logloss: 0.000246154\ttraining's f1: 1\tvalid_1's binary_logloss: 0.0117244\tvalid_1's f1: 0.942149\n",
      "[389]\ttraining's binary_logloss: 0.000244349\ttraining's f1: 1\tvalid_1's binary_logloss: 0.0117241\tvalid_1's f1: 0.942287\n",
      "[390]\ttraining's binary_logloss: 0.000242386\ttraining's f1: 1\tvalid_1's binary_logloss: 0.0117238\tvalid_1's f1: 0.942149\n",
      "[391]\ttraining's binary_logloss: 0.000240626\ttraining's f1: 1\tvalid_1's binary_logloss: 0.0117306\tvalid_1's f1: 0.942149\n",
      "[392]\ttraining's binary_logloss: 0.000238693\ttraining's f1: 1\tvalid_1's binary_logloss: 0.0117286\tvalid_1's f1: 0.942372\n",
      "[393]\ttraining's binary_logloss: 0.000236871\ttraining's f1: 1\tvalid_1's binary_logloss: 0.011733\tvalid_1's f1: 0.942426\n"
     ]
    },
    {
     "name": "stdout",
     "output_type": "stream",
     "text": [
      "[394]\ttraining's binary_logloss: 0.000234961\ttraining's f1: 1\tvalid_1's binary_logloss: 0.0117347\tvalid_1's f1: 0.942468\n",
      "[395]\ttraining's binary_logloss: 0.000233165\ttraining's f1: 1\tvalid_1's binary_logloss: 0.0117326\tvalid_1's f1: 0.94267\n",
      "[396]\ttraining's binary_logloss: 0.00023123\ttraining's f1: 1\tvalid_1's binary_logloss: 0.0117303\tvalid_1's f1: 0.942585\n",
      "[397]\ttraining's binary_logloss: 0.000229457\ttraining's f1: 1\tvalid_1's binary_logloss: 0.0117279\tvalid_1's f1: 0.942511\n",
      "[398]\ttraining's binary_logloss: 0.000227451\ttraining's f1: 1\tvalid_1's binary_logloss: 0.0117307\tvalid_1's f1: 0.94266\n",
      "[399]\ttraining's binary_logloss: 0.000225745\ttraining's f1: 1\tvalid_1's binary_logloss: 0.0117336\tvalid_1's f1: 0.942766\n",
      "[400]\ttraining's binary_logloss: 0.00022417\ttraining's f1: 1\tvalid_1's binary_logloss: 0.0117351\tvalid_1's f1: 0.942852\n",
      "[401]\ttraining's binary_logloss: 0.000222514\ttraining's f1: 1\tvalid_1's binary_logloss: 0.0117392\tvalid_1's f1: 0.942649\n",
      "[402]\ttraining's binary_logloss: 0.000221203\ttraining's f1: 1\tvalid_1's binary_logloss: 0.0117387\tvalid_1's f1: 0.942585\n",
      "[403]\ttraining's binary_logloss: 0.000219743\ttraining's f1: 1\tvalid_1's binary_logloss: 0.0117439\tvalid_1's f1: 0.94251\n",
      "[404]\ttraining's binary_logloss: 0.000217992\ttraining's f1: 1\tvalid_1's binary_logloss: 0.0117446\tvalid_1's f1: 0.942446\n",
      "[405]\ttraining's binary_logloss: 0.000216523\ttraining's f1: 1\tvalid_1's binary_logloss: 0.011747\tvalid_1's f1: 0.942713\n",
      "[406]\ttraining's binary_logloss: 0.000214528\ttraining's f1: 1\tvalid_1's binary_logloss: 0.0117423\tvalid_1's f1: 0.942894\n",
      "[407]\ttraining's binary_logloss: 0.000213091\ttraining's f1: 1\tvalid_1's binary_logloss: 0.0117416\tvalid_1's f1: 0.94282\n",
      "[408]\ttraining's binary_logloss: 0.00021143\ttraining's f1: 1\tvalid_1's binary_logloss: 0.0117442\tvalid_1's f1: 0.942681\n",
      "[409]\ttraining's binary_logloss: 0.000210256\ttraining's f1: 1\tvalid_1's binary_logloss: 0.0117452\tvalid_1's f1: 0.942681\n",
      "[410]\ttraining's binary_logloss: 0.000208952\ttraining's f1: 1\tvalid_1's binary_logloss: 0.0117507\tvalid_1's f1: 0.942905\n",
      "[411]\ttraining's binary_logloss: 0.000207377\ttraining's f1: 1\tvalid_1's binary_logloss: 0.0117511\tvalid_1's f1: 0.942766\n",
      "[412]\ttraining's binary_logloss: 0.000206039\ttraining's f1: 1\tvalid_1's binary_logloss: 0.0117513\tvalid_1's f1: 0.942852\n",
      "[413]\ttraining's binary_logloss: 0.000204545\ttraining's f1: 1\tvalid_1's binary_logloss: 0.0117546\tvalid_1's f1: 0.942873\n",
      "[414]\ttraining's binary_logloss: 0.000203208\ttraining's f1: 1\tvalid_1's binary_logloss: 0.0117617\tvalid_1's f1: 0.94266\n",
      "[415]\ttraining's binary_logloss: 0.000201863\ttraining's f1: 1\tvalid_1's binary_logloss: 0.0117639\tvalid_1's f1: 0.942713\n",
      "[416]\ttraining's binary_logloss: 0.000200377\ttraining's f1: 1\tvalid_1's binary_logloss: 0.0117673\tvalid_1's f1: 0.94266\n",
      "[417]\ttraining's binary_logloss: 0.000198638\ttraining's f1: 1\tvalid_1's binary_logloss: 0.0117649\tvalid_1's f1: 0.942745\n",
      "[418]\ttraining's binary_logloss: 0.000197349\ttraining's f1: 1\tvalid_1's binary_logloss: 0.0117701\tvalid_1's f1: 0.942841\n",
      "[419]\ttraining's binary_logloss: 0.000195989\ttraining's f1: 1\tvalid_1's binary_logloss: 0.0117716\tvalid_1's f1: 0.942969\n",
      "[420]\ttraining's binary_logloss: 0.000194779\ttraining's f1: 1\tvalid_1's binary_logloss: 0.0117731\tvalid_1's f1: 0.943108\n",
      "[421]\ttraining's binary_logloss: 0.000193715\ttraining's f1: 1\tvalid_1's binary_logloss: 0.0117798\tvalid_1's f1: 0.943065\n",
      "[422]\ttraining's binary_logloss: 0.00019221\ttraining's f1: 1\tvalid_1's binary_logloss: 0.0117802\tvalid_1's f1: 0.94298\n",
      "[423]\ttraining's binary_logloss: 0.000190913\ttraining's f1: 1\tvalid_1's binary_logloss: 0.0117818\tvalid_1's f1: 0.943193\n",
      "[424]\ttraining's binary_logloss: 0.000189796\ttraining's f1: 1\tvalid_1's binary_logloss: 0.0117823\tvalid_1's f1: 0.943012\n",
      "[425]\ttraining's binary_logloss: 0.000188535\ttraining's f1: 1\tvalid_1's binary_logloss: 0.0117856\tvalid_1's f1: 0.943001\n",
      "[426]\ttraining's binary_logloss: 0.000187302\ttraining's f1: 1\tvalid_1's binary_logloss: 0.0117892\tvalid_1's f1: 0.942958\n",
      "[427]\ttraining's binary_logloss: 0.000186088\ttraining's f1: 1\tvalid_1's binary_logloss: 0.0117934\tvalid_1's f1: 0.942916\n",
      "[428]\ttraining's binary_logloss: 0.000184751\ttraining's f1: 1\tvalid_1's binary_logloss: 0.0117911\tvalid_1's f1: 0.942916\n",
      "[429]\ttraining's binary_logloss: 0.000183618\ttraining's f1: 1\tvalid_1's binary_logloss: 0.0117942\tvalid_1's f1: 0.942958\n",
      "[430]\ttraining's binary_logloss: 0.000182616\ttraining's f1: 1\tvalid_1's binary_logloss: 0.0117949\tvalid_1's f1: 0.942958\n",
      "[431]\ttraining's binary_logloss: 0.000181516\ttraining's f1: 1\tvalid_1's binary_logloss: 0.0117956\tvalid_1's f1: 0.94283\n",
      "[432]\ttraining's binary_logloss: 0.000180367\ttraining's f1: 1\tvalid_1's binary_logloss: 0.0118004\tvalid_1's f1: 0.942745\n",
      "[433]\ttraining's binary_logloss: 0.00017916\ttraining's f1: 1\tvalid_1's binary_logloss: 0.0118022\tvalid_1's f1: 0.942969\n",
      "[434]\ttraining's binary_logloss: 0.000177903\ttraining's f1: 1\tvalid_1's binary_logloss: 0.0118005\tvalid_1's f1: 0.942916\n",
      "[435]\ttraining's binary_logloss: 0.000176821\ttraining's f1: 1\tvalid_1's binary_logloss: 0.0118036\tvalid_1's f1: 0.942937\n",
      "[436]\ttraining's binary_logloss: 0.000175696\ttraining's f1: 1\tvalid_1's binary_logloss: 0.0118028\tvalid_1's f1: 0.942937\n",
      "[437]\ttraining's binary_logloss: 0.000174574\ttraining's f1: 1\tvalid_1's binary_logloss: 0.0118028\tvalid_1's f1: 0.942873\n",
      "[438]\ttraining's binary_logloss: 0.000173391\ttraining's f1: 1\tvalid_1's binary_logloss: 0.0118021\tvalid_1's f1: 0.942873\n",
      "[439]\ttraining's binary_logloss: 0.000172261\ttraining's f1: 1\tvalid_1's binary_logloss: 0.0118087\tvalid_1's f1: 0.94282\n",
      "[440]\ttraining's binary_logloss: 0.000171163\ttraining's f1: 1\tvalid_1's binary_logloss: 0.0118112\tvalid_1's f1: 0.942723\n",
      "[441]\ttraining's binary_logloss: 0.000170235\ttraining's f1: 1\tvalid_1's binary_logloss: 0.0118133\tvalid_1's f1: 0.942777\n",
      "[442]\ttraining's binary_logloss: 0.000169194\ttraining's f1: 1\tvalid_1's binary_logloss: 0.0118143\tvalid_1's f1: 0.942916\n",
      "[443]\ttraining's binary_logloss: 0.000168205\ttraining's f1: 1\tvalid_1's binary_logloss: 0.0118196\tvalid_1's f1: 0.942884\n",
      "[444]\ttraining's binary_logloss: 0.000167278\ttraining's f1: 1\tvalid_1's binary_logloss: 0.0118196\tvalid_1's f1: 0.943065\n",
      "[445]\ttraining's binary_logloss: 0.000165948\ttraining's f1: 1\tvalid_1's binary_logloss: 0.0118226\tvalid_1's f1: 0.943001\n"
     ]
    }
   ],
   "source": [
    "clf = lig_model.fit(X_train,y_train\n",
    "                    ,eval_set=[(X_train, y_train),(X_valid,y_valid)],\n",
    "                            eval_metric=cus_f1,\n",
    "                            early_stopping_rounds=100)"
   ]
  },
  {
   "cell_type": "code",
   "execution_count": 83,
   "id": "f4294054",
   "metadata": {},
   "outputs": [
    {
     "name": "stdout",
     "output_type": "stream",
     "text": [
      "fbeta score_train: 0.9999607807250336\n",
      "recall_score_train: 1.0\n",
      "precision_score_train: 0.9998039343833737\n",
      "========================================================\n",
      "fbeta score: 0.9094962968707588\n",
      "recall_score: 0.9276250741546371\n",
      "precision_score: 0.8435533177486063\n",
      "\n",
      "Classification report:\n",
      "\n",
      "              precision    recall  f1-score   support\n",
      "\n",
      "         0.0       1.00      1.00      1.00    375390\n",
      "         1.0       0.84      0.93      0.88      5057\n",
      "\n",
      "    accuracy                           1.00    380447\n",
      "   macro avg       0.92      0.96      0.94    380447\n",
      "weighted avg       1.00      1.00      1.00    380447\n",
      "\n"
     ]
    },
    {
     "data": {
      "image/png": "[encoded data removed]",
      "text/plain": [
       "<Figure size 640x480 with 2 Axes>"
      ]
     },
     "metadata": {},
     "output_type": "display_data"
    }
   ],
   "source": [
    "results = {}\n",
    "results['ad'] = {}\n",
    "\n",
    "pre_train = clf.predict(X_train)\n",
    "pre_test = clf.predict(X_valid)\n",
    "\n",
    "results['ad']['fbeta_train'] = fbeta_score(y_train, pre_train, beta=2)\n",
    "results['ad']['recall_train'] = recall_score(y_train, pre_train)\n",
    "results['ad']['precision_train'] = precision_score(y_train, pre_train)\n",
    "\n",
    "results['ad']['fbeta_test'] = fbeta_score(y_valid, pre_test, beta=2)\n",
    "results['ad']['recall_test'] = recall_score(y_valid, pre_test)\n",
    "results['ad']['precision_test'] = precision_score(y_valid, pre_test)\n",
    "\n",
    "print(\"fbeta score_train:\", results['ad']['fbeta_train'])\n",
    "print('recall_score_train:', results['ad']['recall_train'])\n",
    "print('precision_score_train:', results['ad']['precision_train'])\n",
    "\n",
    "print('========================================================')\n",
    "print(\"fbeta score:\", results['ad']['fbeta_test'])\n",
    "print('recall_score:', results['ad']['recall_test'])\n",
    "print('precision_score:', results['ad']['precision_test'])\n",
    "\n",
    "# Classification report\n",
    "print('\\nClassification report:\\n')\n",
    "print(classification_report(y_valid, pre_test))\n",
    "\n",
    "conf_matrix = confusion_matrix(y_valid, pre_test)\n",
    "sns.heatmap(conf_matrix, annot=True, fmt='d', cmap=plt.cm.copper)\n",
    "plt.show()\n"
   ]
  },
  {
   "cell_type": "code",
   "execution_count": 84,
   "id": "40c9998f",
   "metadata": {},
   "outputs": [],
   "source": [
    "ypre = clf.predict(test.drop(['cano','bacno','txkey'],axis=1)) \n",
    "yh = clf.predict(test.drop(['cano','bacno','txkey'],axis=1),raw_score=True) \n",
    "yh = (yh > 2) * 1"
   ]
  },
  {
   "cell_type": "code",
   "execution_count": 85,
   "id": "8c44c7cf",
   "metadata": {},
   "outputs": [],
   "source": [
    "ypre = pd.DataFrame(ypre,index=test.index) \n",
    "ypre = pd.concat([ypre,test['txkey']],axis=1) \n",
    "b = submit.merge(ypre)\n",
    "yh = pd.DataFrame(yh,index=test.index) \n",
    "yh = pd.concat([yh,test['txkey']],axis=1) \n",
    "c = submit.merge(yh)"
   ]
  },
  {
   "cell_type": "code",
   "execution_count": 86,
   "id": "72391ce6",
   "metadata": {},
   "outputs": [
    {
     "data": {
      "text/plain": [
       "7375.0"
      ]
     },
     "execution_count": 86,
     "metadata": {},
     "output_type": "execute_result"
    }
   ],
   "source": [
    "b[0].sum()"
   ]
  },
  {
   "cell_type": "code",
   "execution_count": 87,
   "id": "d2bccd15",
   "metadata": {},
   "outputs": [
    {
     "data": {
      "text/plain": [
       "4915"
      ]
     },
     "execution_count": 87,
     "metadata": {},
     "output_type": "execute_result"
    }
   ],
   "source": [
    "c[0].sum()"
   ]
  },
  {
   "cell_type": "code",
   "execution_count": 88,
   "id": "d0d26425",
   "metadata": {},
   "outputs": [
    {
     "data": {
      "text/html": [
       "<div>\n",
       "<style scoped>\n",
       "    .dataframe tbody tr th:only-of-type {\n",
       "        vertical-align: middle;\n",
       "    }\n",
       "\n",
       "    .dataframe tbody tr th {\n",
       "        vertical-align: top;\n",
       "    }\n",
       "\n",
       "    .dataframe thead th {\n",
       "        text-align: right;\n",
       "    }\n",
       "</style>\n",
       "<table border=\"1\" class=\"dataframe\">\n",
       "  <thead>\n",
       "    <tr style=\"text-align: right;\">\n",
       "      <th></th>\n",
       "      <th>0</th>\n",
       "    </tr>\n",
       "  </thead>\n",
       "  <tbody>\n",
       "    <tr>\n",
       "      <th>frequency_cano</th>\n",
       "      <td>2441</td>\n",
       "    </tr>\n",
       "    <tr>\n",
       "      <th>loctm_str</th>\n",
       "      <td>2138</td>\n",
       "    </tr>\n",
       "    <tr>\n",
       "      <th>seconds</th>\n",
       "      <td>2117</td>\n",
       "    </tr>\n",
       "    <tr>\n",
       "      <th>total_seconds</th>\n",
       "      <td>2013</td>\n",
       "    </tr>\n",
       "    <tr>\n",
       "      <th>std_amount</th>\n",
       "      <td>1952</td>\n",
       "    </tr>\n",
       "    <tr>\n",
       "      <th>...</th>\n",
       "      <td>...</td>\n",
       "    </tr>\n",
       "    <tr>\n",
       "      <th>mean_amount</th>\n",
       "      <td>0</td>\n",
       "    </tr>\n",
       "    <tr>\n",
       "      <th>month</th>\n",
       "      <td>0</td>\n",
       "    </tr>\n",
       "    <tr>\n",
       "      <th>is_taiwan</th>\n",
       "      <td>0</td>\n",
       "    </tr>\n",
       "    <tr>\n",
       "      <th>acc_trad_ave</th>\n",
       "      <td>0</td>\n",
       "    </tr>\n",
       "    <tr>\n",
       "      <th>trad_hour</th>\n",
       "      <td>0</td>\n",
       "    </tr>\n",
       "  </tbody>\n",
       "</table>\n",
       "<p>89 rows × 1 columns</p>\n",
       "</div>"
      ],
      "text/plain": [
       "                   0\n",
       "frequency_cano  2441\n",
       "loctm_str       2138\n",
       "seconds         2117\n",
       "total_seconds   2013\n",
       "std_amount      1952\n",
       "...              ...\n",
       "mean_amount        0\n",
       "month              0\n",
       "is_taiwan          0\n",
       "acc_trad_ave       0\n",
       "trad_hour          0\n",
       "\n",
       "[89 rows x 1 columns]"
      ]
     },
     "execution_count": 88,
     "metadata": {},
     "output_type": "execute_result"
    }
   ],
   "source": [
    "b = submit.merge(ypre)\n",
    "b['fraud_ind'] = b[0]\n",
    "b.drop(0,axis=1,inplace=True)\n",
    "b.to_csv('test14.csv')\n",
    "c = submit.merge(yh)\n",
    "c['fraud_ind'] = c[0]\n",
    "c.drop(0,axis=1,inplace=True)\n",
    "c.to_csv('test15.csv')\n",
    "imp = clf.feature_importances_\n",
    "imp_col = X_train.columns.tolist()\n",
    "importance = pd.DataFrame(imp,index=imp_col)\n",
    "importance.sort_values(0,ascending=False)"
   ]
  },
  {
   "cell_type": "code",
   "execution_count": 98,
   "id": "130ba5d4",
   "metadata": {},
   "outputs": [],
   "source": [
    "importance.sort_values(0,ascending=False).to_csv(\"feature importance.csv\")"
   ]
  },
  {
   "cell_type": "code",
   "execution_count": 89,
   "id": "1e6d3ec5",
   "metadata": {},
   "outputs": [
    {
     "data": {
      "text/plain": [
       "Index(['acqic', 'bacno', 'cano', 'conam', 'contp', 'csmcu', 'ecfg', 'etymd',\n",
       "       'flbmk', 'flg_3dsmk', 'fraud_ind', 'hcefg', 'insfg', 'iterm', 'locdt',\n",
       "       'loctm', 'mcc', 'mchno', 'ovrlt', 'scity', 'stocn', 'stscd', 'txkey',\n",
       "       'ecfg_stocn', 'ecfg_scity', 'ovrlt_stocn', 'ovrlt_scity', 'loctm_int',\n",
       "       'loctm_str', 'hours', 'minutes', 'seconds', 'total_seconds', 'time',\n",
       "       'trad_hour', 'morning', 'afternoon', 'night', 'midnight',\n",
       "       'transation_count', 'transation_count_cano', 'acqic_duplicated_count',\n",
       "       'conam_duplicated_count', 'conam_stocn', 'bacno_mchno', 'cano_mchno',\n",
       "       'bacno_stocn', 'cano_stocn', 'bacno_scity', 'cano_scity',\n",
       "       'bacno_flg_3dsmk', 'cano_flg_3dsmk', 'bacno_ecfg_mean',\n",
       "       'cano_ecfg_mean', 'comsum_min', 'comsum_max', 'acc_trad_ave',\n",
       "       'acc_trad_total', 'comsum_total', 'comsum_ave', 'mean_amount',\n",
       "       'amtby_mean_amount', 'mean_amount_cano', 'amtby_mean_amount_cano',\n",
       "       'median_amount', 'amtby_median_amount', 'median_amount_cano',\n",
       "       'amtby_median_amount_cano', 'std_amount', 'comsum_feq30',\n",
       "       'comsum_feq3060', 'comsum_feq6090', 'comsum_feq90120', 'comsum_feq60',\n",
       "       'comsum_feq3090', 'comsum_feq60120', 'day_trad_num', 'day_comsum_total',\n",
       "       'frequency', 'frequency_cano', 'mean_time', 'median_time',\n",
       "       'mean_time_cano', 'median_time_cano', 'total_seconds_diff',\n",
       "       'total_seconds_diff_cano', 'date_day', 'week', '2_week', 'month',\n",
       "       'is_taiwan', 'country_com_num', 'city_com_num'],\n",
       "      dtype='object')"
      ]
     },
     "execution_count": 89,
     "metadata": {},
     "output_type": "execute_result"
    }
   ],
   "source": [
    "data.columns"
   ]
  },
  {
   "cell_type": "code",
   "execution_count": 90,
   "id": "998d2a64",
   "metadata": {},
   "outputs": [
    {
     "data": {
      "text/plain": [
       "1943452"
      ]
     },
     "execution_count": 90,
     "metadata": {},
     "output_type": "execute_result"
    }
   ],
   "source": [
    "data.shape[0]"
   ]
  },
  {
   "cell_type": "code",
   "execution_count": null,
   "id": "579431c1",
   "metadata": {},
   "outputs": [],
   "source": []
  }
 ],
 "metadata": {
  "kernelspec": {
   "display_name": "Python 3 (ipykernel)",
   "language": "python",
   "name": "python3"
  },
  "language_info": {
   "codemirror_mode": {
    "name": "ipython",
    "version": 3
   },
   "file_extension": ".py",
   "mimetype": "text/x-python",
   "name": "python",
   "nbconvert_exporter": "python",
   "pygments_lexer": "ipython3",
   "version": "3.9.13"
  }
 },
 "nbformat": 4,
 "nbformat_minor": 5
}
